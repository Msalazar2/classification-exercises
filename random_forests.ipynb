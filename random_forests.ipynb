{
 "cells": [
  {
   "cell_type": "code",
   "execution_count": 57,
   "id": "c9e4f1d6",
   "metadata": {},
   "outputs": [],
   "source": [
    "import pandas as pd\n",
    "import numpy as np\n",
    "import matplotlib.pyplot as plt\n",
    "\n",
    "from acquire import get_titanic_data\n",
    "from sklearn.model_selection import train_test_split\n",
    "from sklearn.ensemble import RandomForestClassifier\n",
    "from adam_prepare import titanic_pipeline\n",
    "from sklearn.metrics import classification_report\n",
    "from sklearn.metrics import confusion_matrix\n",
    "from sklearn.metrics import precision_score, recall_score, accuracy_score"
   ]
  },
  {
   "cell_type": "markdown",
   "id": "2309e25a",
   "metadata": {},
   "source": [
    "## 1. Fit the Random Forest classifier to your training sample and transform (i.e. make predictions on the training sample) setting the random_state accordingly and setting min_samples_leaf = 1 and max_depth = 10."
   ]
  },
  {
   "cell_type": "code",
   "execution_count": 2,
   "id": "77efaf51",
   "metadata": {},
   "outputs": [],
   "source": [
    "# TRAIN, VALIDATE, TEST DATA YOU ACQUIRED:"
   ]
  },
  {
   "cell_type": "code",
   "execution_count": 3,
   "id": "46c91669",
   "metadata": {},
   "outputs": [
    {
     "name": "stdout",
     "output_type": "stream",
     "text": [
      "found data\n"
     ]
    },
    {
     "data": {
      "text/plain": [
       "[     passenger_id  survived  pclass     sex   age  sibsp  parch     fare  \\\n",
       " 748           748         0       1    male  19.0      1      0  53.1000   \n",
       " 45             45         0       3    male   NaN      0      0   8.0500   \n",
       " 28             28         1       3  female   NaN      0      0   7.8792   \n",
       " 633           633         0       1    male   NaN      0      0   0.0000   \n",
       " 403           403         0       3    male  28.0      1      0  15.8500   \n",
       " ..            ...       ...     ...     ...   ...    ...    ...      ...   \n",
       " 476           476         0       2    male  34.0      1      0  21.0000   \n",
       " 190           190         1       2  female  32.0      0      0  13.0000   \n",
       " 736           736         0       3  female  48.0      1      3  34.3750   \n",
       " 462           462         0       1    male  47.0      0      0  38.5000   \n",
       " 136           136         1       1  female  19.0      0      2  26.2833   \n",
       " \n",
       "     embarked   class deck  embark_town  alone  \n",
       " 748        S   First    D  Southampton      0  \n",
       " 45         S   Third  NaN  Southampton      1  \n",
       " 28         Q   Third  NaN   Queenstown      1  \n",
       " 633        S   First  NaN  Southampton      1  \n",
       " 403        S   Third  NaN  Southampton      0  \n",
       " ..       ...     ...  ...          ...    ...  \n",
       " 476        S  Second  NaN  Southampton      0  \n",
       " 190        S  Second  NaN  Southampton      1  \n",
       " 736        S   Third  NaN  Southampton      0  \n",
       " 462        S   First    E  Southampton      1  \n",
       " 136        S   First    D  Southampton      0  \n",
       " \n",
       " [623 rows x 13 columns],\n",
       "      passenger_id  survived  pclass     sex   age  sibsp  parch     fare  \\\n",
       " 625           625         0       1    male  61.0      0      0  32.3208   \n",
       " 566           566         0       3    male  19.0      0      0   7.8958   \n",
       " 459           459         0       3    male   NaN      0      0   7.7500   \n",
       " 804           804         1       3    male  27.0      0      0   6.9750   \n",
       " 338           338         1       3    male  45.0      0      0   8.0500   \n",
       " ..            ...       ...     ...     ...   ...    ...    ...      ...   \n",
       " 184           184         1       3  female   4.0      0      2  22.0250   \n",
       " 607           607         1       1    male  27.0      0      0  30.5000   \n",
       " 624           624         0       3    male  21.0      0      0  16.1000   \n",
       " 103           103         0       3    male  33.0      0      0   8.6542   \n",
       " 387           387         1       2  female  36.0      0      0  13.0000   \n",
       " \n",
       "     embarked   class deck  embark_town  alone  \n",
       " 625        S   First    D  Southampton      1  \n",
       " 566        S   Third  NaN  Southampton      1  \n",
       " 459        Q   Third  NaN   Queenstown      1  \n",
       " 804        S   Third  NaN  Southampton      1  \n",
       " 338        S   Third  NaN  Southampton      1  \n",
       " ..       ...     ...  ...          ...    ...  \n",
       " 184        S   Third  NaN  Southampton      0  \n",
       " 607        S   First  NaN  Southampton      1  \n",
       " 624        S   Third  NaN  Southampton      1  \n",
       " 103        S   Third  NaN  Southampton      1  \n",
       " 387        S  Second  NaN  Southampton      1  \n",
       " \n",
       " [268 rows x 13 columns]]"
      ]
     },
     "execution_count": 3,
     "metadata": {},
     "output_type": "execute_result"
    }
   ],
   "source": [
    "df = get_titanic_data()\n",
    "train_test_split(df, train_size = 0.7, random_state = 42, stratify = df['survived'])\n",
    "\n",
    "    "
   ]
  },
  {
   "cell_type": "code",
   "execution_count": 4,
   "id": "33c7df37",
   "metadata": {},
   "outputs": [
    {
     "name": "stdout",
     "output_type": "stream",
     "text": [
      "found data\n"
     ]
    },
    {
     "data": {
      "text/plain": [
       "((623, 10), (134, 10), (134, 10))"
      ]
     },
     "execution_count": 4,
     "metadata": {},
     "output_type": "execute_result"
    }
   ],
   "source": [
    "# SPLIT DATA\n",
    "\n",
    "# INPUT: \n",
    "'''DATAFRAME THAT WAS SPLIT (70% TRAIN, 15% VAL, 15% TEST) AND STRATIFIED USING TARGET VARIABLE FOR MAINTAINED \n",
    "DISTRIBUTION OF CLASSES AND GENERALIZATION PERFORMANCE ON NEW UNSEEN DATA '''\n",
    "\n",
    "\n",
    "# OUTPUT: \n",
    "# train_test_split RETURNS SEPERATE pandas DATAFRAMES FOR EACH VARIABLE\n",
    "# .shape RETURNS LIST OF TUPLES, WHERE EACH TUPLE REPRESENTS A MATRIX/ARRAY IN ROWS & COLUMNS. ALL COLUMNS SHOULD BE =\n",
    "\n",
    "train, val, test = titanic_pipeline()\n",
    "train.shape, val.shape, test.shape"
   ]
  },
  {
   "cell_type": "markdown",
   "id": "32cc6145",
   "metadata": {},
   "source": [
    "______"
   ]
  },
  {
   "cell_type": "code",
   "execution_count": 5,
   "id": "4e45c642",
   "metadata": {},
   "outputs": [
    {
     "data": {
      "text/plain": [
       "748    0\n",
       "45     0\n",
       "28     1\n",
       "633    0\n",
       "403    0\n",
       "      ..\n",
       "476    0\n",
       "190    1\n",
       "736    0\n",
       "462    0\n",
       "136    1\n",
       "Name: survived, Length: 623, dtype: int64"
      ]
     },
     "execution_count": 5,
     "metadata": {},
     "output_type": "execute_result"
    }
   ],
   "source": [
    "# CREATE X & y FOR TRAIN & VALIDATE DATAFRAMES\n",
    "\n",
    "# INPUT:\n",
    "# X = ALL FEATURES/INDEPENDENT VARIABLES, WHERE IT REPRESENTS RELATIONAL FEATURES USED TO PREDICT GROUND TRUTH \n",
    "# y = TARGET/DEPENDENT VARIABLE, WHERE IT REPRESENTS GROUND TRUTH THAT THE MODEL LEARNS TO PREDICT\n",
    "\n",
    "# PRUNE THE X_TRAIN AND X_VALIDATE DATAFRAMES AND EXTRACT TARGET VARIABLE\n",
    "# YOU DROP THE TARGET VARIABLE AND ANY FEATURES NOT SIGNIFICANT USING pandas .drop() method\n",
    "\n",
    "# OUTPUT:\n",
    "# X RETURNS NEW pandas DATAFRAME WITHOUT SPECIFIED FEATURES\n",
    "# Y RETURNS NEW pandas SERIES WITH INDICES FOR ALL DATAPOINTS FROM TARGET VARIABLE\n",
    "\n",
    "X_train = train.drop(columns = ['survived', 'deck'])\n",
    "y_train = train.survived\n",
    "\n",
    "X_val = val.drop(columns = ['survived', 'deck'])\n",
    "y_val = val.survived\n",
    "\n",
    "y_train"
   ]
  },
  {
   "cell_type": "markdown",
   "id": "658c215a",
   "metadata": {},
   "source": [
    "------"
   ]
  },
  {
   "cell_type": "code",
   "execution_count": 6,
   "id": "3a11c06a",
   "metadata": {
    "scrolled": true
   },
   "outputs": [],
   "source": [
    "# PERFORM ONE HOT ENCODING ON X DATAFRAME USING pd.get_dummies WHERE CATEGORICAL DATA IS CONVERTED INTO BINARY MATRIX (0,1)\n",
    "\n",
    "# INPUT:\n",
    "# CATEGORICAL COLUMNS FROM YOUR X DATAFRAME\n",
    "# USE drop_first=TRUE TO REDUCE MILTICOLLINEARITY WHERE YOU DROP THE FIRST CATEGORY LEVEL FOR EACH CATIGORICAL FEATURE\n",
    "\n",
    "# OUPUT:\n",
    "# NEW X DATAFRAME. COLUMNS SHOULD STILL BE =\n",
    "\n",
    "X_train = pd.get_dummies(X_train, columns = ['sex'], drop_first = True)\n",
    "X_train = pd.get_dummies(X_train, columns = ['class', 'embark_town'])\n",
    "\n",
    "X_val = pd.get_dummies(X_val, columns = ['sex'], drop_first = True)\n",
    "X_val = pd.get_dummies(X_val, columns = ['class', 'embark_town'])\n",
    "\n"
   ]
  },
  {
   "cell_type": "code",
   "execution_count": 7,
   "id": "c005a6a3",
   "metadata": {},
   "outputs": [
    {
     "data": {
      "text/plain": [
       "((623, 12), (134, 12))"
      ]
     },
     "execution_count": 7,
     "metadata": {},
     "output_type": "execute_result"
    }
   ],
   "source": [
    "X_train.shape, X_val.shape"
   ]
  },
  {
   "cell_type": "markdown",
   "id": "3feeb88c",
   "metadata": {},
   "source": [
    "---"
   ]
  },
  {
   "cell_type": "code",
   "execution_count": 8,
   "id": "13eac325",
   "metadata": {
    "scrolled": false
   },
   "outputs": [
    {
     "data": {
      "text/html": [
       "<div>\n",
       "<style scoped>\n",
       "    .dataframe tbody tr th:only-of-type {\n",
       "        vertical-align: middle;\n",
       "    }\n",
       "\n",
       "    .dataframe tbody tr th {\n",
       "        vertical-align: top;\n",
       "    }\n",
       "\n",
       "    .dataframe thead th {\n",
       "        text-align: right;\n",
       "    }\n",
       "</style>\n",
       "<table border=\"1\" class=\"dataframe\">\n",
       "  <thead>\n",
       "    <tr style=\"text-align: right;\">\n",
       "      <th></th>\n",
       "      <th>age</th>\n",
       "      <th>sibsp</th>\n",
       "      <th>parch</th>\n",
       "      <th>fare</th>\n",
       "      <th>alone</th>\n",
       "      <th>sex_male</th>\n",
       "      <th>class_First</th>\n",
       "      <th>class_Second</th>\n",
       "      <th>class_Third</th>\n",
       "      <th>embark_town_Cherbourg</th>\n",
       "      <th>embark_town_Queenstown</th>\n",
       "      <th>embark_town_Southampton</th>\n",
       "    </tr>\n",
       "  </thead>\n",
       "  <tbody>\n",
       "    <tr>\n",
       "      <th>748</th>\n",
       "      <td>19.0</td>\n",
       "      <td>1</td>\n",
       "      <td>0</td>\n",
       "      <td>53.1000</td>\n",
       "      <td>0</td>\n",
       "      <td>1</td>\n",
       "      <td>1</td>\n",
       "      <td>0</td>\n",
       "      <td>0</td>\n",
       "      <td>0</td>\n",
       "      <td>0</td>\n",
       "      <td>1</td>\n",
       "    </tr>\n",
       "    <tr>\n",
       "      <th>45</th>\n",
       "      <td>29.0</td>\n",
       "      <td>0</td>\n",
       "      <td>0</td>\n",
       "      <td>8.0500</td>\n",
       "      <td>1</td>\n",
       "      <td>1</td>\n",
       "      <td>0</td>\n",
       "      <td>0</td>\n",
       "      <td>1</td>\n",
       "      <td>0</td>\n",
       "      <td>0</td>\n",
       "      <td>1</td>\n",
       "    </tr>\n",
       "    <tr>\n",
       "      <th>28</th>\n",
       "      <td>29.0</td>\n",
       "      <td>0</td>\n",
       "      <td>0</td>\n",
       "      <td>7.8792</td>\n",
       "      <td>1</td>\n",
       "      <td>0</td>\n",
       "      <td>0</td>\n",
       "      <td>0</td>\n",
       "      <td>1</td>\n",
       "      <td>0</td>\n",
       "      <td>1</td>\n",
       "      <td>0</td>\n",
       "    </tr>\n",
       "    <tr>\n",
       "      <th>633</th>\n",
       "      <td>29.0</td>\n",
       "      <td>0</td>\n",
       "      <td>0</td>\n",
       "      <td>0.0000</td>\n",
       "      <td>1</td>\n",
       "      <td>1</td>\n",
       "      <td>1</td>\n",
       "      <td>0</td>\n",
       "      <td>0</td>\n",
       "      <td>0</td>\n",
       "      <td>0</td>\n",
       "      <td>1</td>\n",
       "    </tr>\n",
       "    <tr>\n",
       "      <th>403</th>\n",
       "      <td>28.0</td>\n",
       "      <td>1</td>\n",
       "      <td>0</td>\n",
       "      <td>15.8500</td>\n",
       "      <td>0</td>\n",
       "      <td>1</td>\n",
       "      <td>0</td>\n",
       "      <td>0</td>\n",
       "      <td>1</td>\n",
       "      <td>0</td>\n",
       "      <td>0</td>\n",
       "      <td>1</td>\n",
       "    </tr>\n",
       "  </tbody>\n",
       "</table>\n",
       "</div>"
      ],
      "text/plain": [
       "      age  sibsp  parch     fare  alone  sex_male  class_First  class_Second  \\\n",
       "748  19.0      1      0  53.1000      0         1            1             0   \n",
       "45   29.0      0      0   8.0500      1         1            0             0   \n",
       "28   29.0      0      0   7.8792      1         0            0             0   \n",
       "633  29.0      0      0   0.0000      1         1            1             0   \n",
       "403  28.0      1      0  15.8500      0         1            0             0   \n",
       "\n",
       "     class_Third  embark_town_Cherbourg  embark_town_Queenstown  \\\n",
       "748            0                      0                       0   \n",
       "45             1                      0                       0   \n",
       "28             1                      0                       1   \n",
       "633            0                      0                       0   \n",
       "403            1                      0                       0   \n",
       "\n",
       "     embark_town_Southampton  \n",
       "748                        1  \n",
       "45                         1  \n",
       "28                         0  \n",
       "633                        1  \n",
       "403                        1  "
      ]
     },
     "execution_count": 8,
     "metadata": {},
     "output_type": "execute_result"
    }
   ],
   "source": [
    "X_train.head()"
   ]
  },
  {
   "cell_type": "markdown",
   "id": "fa13f6cb",
   "metadata": {},
   "source": [
    "---"
   ]
  },
  {
   "cell_type": "code",
   "execution_count": 9,
   "id": "0179a616",
   "metadata": {},
   "outputs": [],
   "source": [
    "# CREATE OBJECT AND TRAIN MODEL\n",
    "# ADJUST HYPERPARAMETERS THAT BEST FIT MODEL\n",
    "\n",
    "seed = 42\n",
    "\n",
    "rf = RandomForestClassifier(min_samples_leaf = 1, max_depth = 10, random_state = seed)"
   ]
  },
  {
   "cell_type": "markdown",
   "id": "b2fb6629",
   "metadata": {},
   "source": [
    "---"
   ]
  },
  {
   "cell_type": "code",
   "execution_count": 10,
   "id": "6da84fa1",
   "metadata": {},
   "outputs": [
    {
     "data": {
      "text/html": [
       "<style>#sk-container-id-1 {color: black;background-color: white;}#sk-container-id-1 pre{padding: 0;}#sk-container-id-1 div.sk-toggleable {background-color: white;}#sk-container-id-1 label.sk-toggleable__label {cursor: pointer;display: block;width: 100%;margin-bottom: 0;padding: 0.3em;box-sizing: border-box;text-align: center;}#sk-container-id-1 label.sk-toggleable__label-arrow:before {content: \"▸\";float: left;margin-right: 0.25em;color: #696969;}#sk-container-id-1 label.sk-toggleable__label-arrow:hover:before {color: black;}#sk-container-id-1 div.sk-estimator:hover label.sk-toggleable__label-arrow:before {color: black;}#sk-container-id-1 div.sk-toggleable__content {max-height: 0;max-width: 0;overflow: hidden;text-align: left;background-color: #f0f8ff;}#sk-container-id-1 div.sk-toggleable__content pre {margin: 0.2em;color: black;border-radius: 0.25em;background-color: #f0f8ff;}#sk-container-id-1 input.sk-toggleable__control:checked~div.sk-toggleable__content {max-height: 200px;max-width: 100%;overflow: auto;}#sk-container-id-1 input.sk-toggleable__control:checked~label.sk-toggleable__label-arrow:before {content: \"▾\";}#sk-container-id-1 div.sk-estimator input.sk-toggleable__control:checked~label.sk-toggleable__label {background-color: #d4ebff;}#sk-container-id-1 div.sk-label input.sk-toggleable__control:checked~label.sk-toggleable__label {background-color: #d4ebff;}#sk-container-id-1 input.sk-hidden--visually {border: 0;clip: rect(1px 1px 1px 1px);clip: rect(1px, 1px, 1px, 1px);height: 1px;margin: -1px;overflow: hidden;padding: 0;position: absolute;width: 1px;}#sk-container-id-1 div.sk-estimator {font-family: monospace;background-color: #f0f8ff;border: 1px dotted black;border-radius: 0.25em;box-sizing: border-box;margin-bottom: 0.5em;}#sk-container-id-1 div.sk-estimator:hover {background-color: #d4ebff;}#sk-container-id-1 div.sk-parallel-item::after {content: \"\";width: 100%;border-bottom: 1px solid gray;flex-grow: 1;}#sk-container-id-1 div.sk-label:hover label.sk-toggleable__label {background-color: #d4ebff;}#sk-container-id-1 div.sk-serial::before {content: \"\";position: absolute;border-left: 1px solid gray;box-sizing: border-box;top: 0;bottom: 0;left: 50%;z-index: 0;}#sk-container-id-1 div.sk-serial {display: flex;flex-direction: column;align-items: center;background-color: white;padding-right: 0.2em;padding-left: 0.2em;position: relative;}#sk-container-id-1 div.sk-item {position: relative;z-index: 1;}#sk-container-id-1 div.sk-parallel {display: flex;align-items: stretch;justify-content: center;background-color: white;position: relative;}#sk-container-id-1 div.sk-item::before, #sk-container-id-1 div.sk-parallel-item::before {content: \"\";position: absolute;border-left: 1px solid gray;box-sizing: border-box;top: 0;bottom: 0;left: 50%;z-index: -1;}#sk-container-id-1 div.sk-parallel-item {display: flex;flex-direction: column;z-index: 1;position: relative;background-color: white;}#sk-container-id-1 div.sk-parallel-item:first-child::after {align-self: flex-end;width: 50%;}#sk-container-id-1 div.sk-parallel-item:last-child::after {align-self: flex-start;width: 50%;}#sk-container-id-1 div.sk-parallel-item:only-child::after {width: 0;}#sk-container-id-1 div.sk-dashed-wrapped {border: 1px dashed gray;margin: 0 0.4em 0.5em 0.4em;box-sizing: border-box;padding-bottom: 0.4em;background-color: white;}#sk-container-id-1 div.sk-label label {font-family: monospace;font-weight: bold;display: inline-block;line-height: 1.2em;}#sk-container-id-1 div.sk-label-container {text-align: center;}#sk-container-id-1 div.sk-container {/* jupyter's `normalize.less` sets `[hidden] { display: none; }` but bootstrap.min.css set `[hidden] { display: none !important; }` so we also need the `!important` here to be able to override the default hidden behavior on the sphinx rendered scikit-learn.org. See: https://github.com/scikit-learn/scikit-learn/issues/21755 */display: inline-block !important;position: relative;}#sk-container-id-1 div.sk-text-repr-fallback {display: none;}</style><div id=\"sk-container-id-1\" class=\"sk-top-container\"><div class=\"sk-text-repr-fallback\"><pre>RandomForestClassifier(max_depth=10, random_state=42)</pre><b>In a Jupyter environment, please rerun this cell to show the HTML representation or trust the notebook. <br />On GitHub, the HTML representation is unable to render, please try loading this page with nbviewer.org.</b></div><div class=\"sk-container\" hidden><div class=\"sk-item\"><div class=\"sk-estimator sk-toggleable\"><input class=\"sk-toggleable__control sk-hidden--visually\" id=\"sk-estimator-id-1\" type=\"checkbox\" checked><label for=\"sk-estimator-id-1\" class=\"sk-toggleable__label sk-toggleable__label-arrow\">RandomForestClassifier</label><div class=\"sk-toggleable__content\"><pre>RandomForestClassifier(max_depth=10, random_state=42)</pre></div></div></div></div></div>"
      ],
      "text/plain": [
       "RandomForestClassifier(max_depth=10, random_state=42)"
      ]
     },
     "execution_count": 10,
     "metadata": {},
     "output_type": "execute_result"
    }
   ],
   "source": [
    "# WHAT LIBRARY IS THIS METHOD FROM?\n",
    "# USE .fit() METHOD TO AUTOMATICALLY OPTIMIZE INTERNAL PARAMETERS OF THE MODEL USING THE TRAINING DATA\n",
    "\n",
    "# INPUT: \n",
    "# X & Y TRAIN DATAFRAMES/ALL RELATIONAL FEATURES & TARGET VARIABLE\n",
    "\n",
    "# OUTPUT: \n",
    "# RANDOMFORESTCLASSIFIER FROM scikit-learn READY TO MAKE PREDICTIONS \n",
    "\n",
    "rf.fit(X_train, y_train)"
   ]
  },
  {
   "cell_type": "markdown",
   "id": "99d10aee",
   "metadata": {},
   "source": [
    "---"
   ]
  },
  {
   "cell_type": "code",
   "execution_count": 11,
   "id": "e0e38bae",
   "metadata": {
    "scrolled": true
   },
   "outputs": [
    {
     "data": {
      "text/html": [
       "<div>\n",
       "<style scoped>\n",
       "    .dataframe tbody tr th:only-of-type {\n",
       "        vertical-align: middle;\n",
       "    }\n",
       "\n",
       "    .dataframe tbody tr th {\n",
       "        vertical-align: top;\n",
       "    }\n",
       "\n",
       "    .dataframe thead th {\n",
       "        text-align: right;\n",
       "    }\n",
       "</style>\n",
       "<table border=\"1\" class=\"dataframe\">\n",
       "  <thead>\n",
       "    <tr style=\"text-align: right;\">\n",
       "      <th></th>\n",
       "      <th>feature</th>\n",
       "      <th>importance</th>\n",
       "    </tr>\n",
       "  </thead>\n",
       "  <tbody>\n",
       "    <tr>\n",
       "      <th>5</th>\n",
       "      <td>sex_male</td>\n",
       "      <td>0.304415</td>\n",
       "    </tr>\n",
       "    <tr>\n",
       "      <th>3</th>\n",
       "      <td>fare</td>\n",
       "      <td>0.227986</td>\n",
       "    </tr>\n",
       "    <tr>\n",
       "      <th>0</th>\n",
       "      <td>age</td>\n",
       "      <td>0.208397</td>\n",
       "    </tr>\n",
       "    <tr>\n",
       "      <th>8</th>\n",
       "      <td>class_Third</td>\n",
       "      <td>0.059482</td>\n",
       "    </tr>\n",
       "    <tr>\n",
       "      <th>2</th>\n",
       "      <td>parch</td>\n",
       "      <td>0.044518</td>\n",
       "    </tr>\n",
       "    <tr>\n",
       "      <th>1</th>\n",
       "      <td>sibsp</td>\n",
       "      <td>0.042962</td>\n",
       "    </tr>\n",
       "    <tr>\n",
       "      <th>6</th>\n",
       "      <td>class_First</td>\n",
       "      <td>0.033793</td>\n",
       "    </tr>\n",
       "    <tr>\n",
       "      <th>4</th>\n",
       "      <td>alone</td>\n",
       "      <td>0.021228</td>\n",
       "    </tr>\n",
       "    <tr>\n",
       "      <th>11</th>\n",
       "      <td>embark_town_Southampton</td>\n",
       "      <td>0.018501</td>\n",
       "    </tr>\n",
       "    <tr>\n",
       "      <th>7</th>\n",
       "      <td>class_Second</td>\n",
       "      <td>0.015583</td>\n",
       "    </tr>\n",
       "    <tr>\n",
       "      <th>9</th>\n",
       "      <td>embark_town_Cherbourg</td>\n",
       "      <td>0.015091</td>\n",
       "    </tr>\n",
       "    <tr>\n",
       "      <th>10</th>\n",
       "      <td>embark_town_Queenstown</td>\n",
       "      <td>0.008044</td>\n",
       "    </tr>\n",
       "  </tbody>\n",
       "</table>\n",
       "</div>"
      ],
      "text/plain": [
       "                    feature  importance\n",
       "5                  sex_male    0.304415\n",
       "3                      fare    0.227986\n",
       "0                       age    0.208397\n",
       "8               class_Third    0.059482\n",
       "2                     parch    0.044518\n",
       "1                     sibsp    0.042962\n",
       "6               class_First    0.033793\n",
       "4                     alone    0.021228\n",
       "11  embark_town_Southampton    0.018501\n",
       "7              class_Second    0.015583\n",
       "9     embark_town_Cherbourg    0.015091\n",
       "10   embark_town_Queenstown    0.008044"
      ]
     },
     "execution_count": 11,
     "metadata": {},
     "output_type": "execute_result"
    }
   ],
   "source": [
    "# EVALUATE IMPORTANCE/WEIGHT OF EACH FEATURE USING feature_important_ METHOD\n",
    "\n",
    "fi = pd.DataFrame({'feature': X_train.columns,\n",
    "                  'importance': rf.feature_importances_})\n",
    "\n",
    "fi.sort_values(by = 'importance', ascending = False)"
   ]
  },
  {
   "cell_type": "markdown",
   "id": "e4986ffe",
   "metadata": {},
   "source": [
    "---"
   ]
  },
  {
   "cell_type": "code",
   "execution_count": 12,
   "id": "fb3b6937",
   "metadata": {},
   "outputs": [
    {
     "data": {
      "text/plain": [
       "array([0, 0, 1, 0, 0])"
      ]
     },
     "execution_count": 12,
     "metadata": {},
     "output_type": "execute_result"
    }
   ],
   "source": [
    "# MAKE PREDICTIONS BASED OF RELATIONSHIPS YOUR MODEL LEARNED DURING TRAINING TO NEW DATA\n",
    "\n",
    "# INPUT: \n",
    "# DATAFRAME WITH SAME STRUCTURE AND FORMAT AS THE DATA THE MODEL WAS TRAINED ON\n",
    "\n",
    "# OUTPUT:\n",
    "# ARRAY OF OUTCOMES (1,0)\n",
    "\n",
    "y_pred = rf.predict(X_train)\n",
    "\n",
    "y_pred[:5]"
   ]
  },
  {
   "cell_type": "markdown",
   "id": "ae29acea",
   "metadata": {},
   "source": [
    "---"
   ]
  },
  {
   "cell_type": "code",
   "execution_count": 13,
   "id": "a65f9d59",
   "metadata": {},
   "outputs": [
    {
     "data": {
      "text/plain": [
       "array([[0.63485783, 0.36514217],\n",
       "       [0.92536919, 0.07463081],\n",
       "       [0.05132852, 0.94867148],\n",
       "       ...,\n",
       "       [0.94831313, 0.05168687],\n",
       "       [0.9052349 , 0.0947651 ],\n",
       "       [0.01368421, 0.98631579]])"
      ]
     },
     "execution_count": 13,
     "metadata": {},
     "output_type": "execute_result"
    }
   ],
   "source": [
    "# ESTIMATE THE PROBABILITY OF EACH PREDICTION\n",
    "\n",
    "y_pred_proba = rf.predict_proba(X_train)\n",
    "\n",
    "y_pred_proba"
   ]
  },
  {
   "cell_type": "markdown",
   "id": "c8568403",
   "metadata": {},
   "source": [
    "## 2. Evaluate your results using the model score, confusion matrix, and classification report."
   ]
  },
  {
   "cell_type": "code",
   "execution_count": 24,
   "id": "7a5b200d",
   "metadata": {},
   "outputs": [
    {
     "data": {
      "text/plain": [
       "0.9550561797752809"
      ]
     },
     "execution_count": 24,
     "metadata": {},
     "output_type": "execute_result"
    }
   ],
   "source": [
    "# COMPUTE THE ACCURACY OF YOUR MODEL USING .score() method\n",
    "\n",
    "rf.score(X_train, y_train)"
   ]
  },
  {
   "cell_type": "markdown",
   "id": "9b1fd261",
   "metadata": {},
   "source": [
    "---"
   ]
  },
  {
   "cell_type": "code",
   "execution_count": 19,
   "id": "d9f800f8",
   "metadata": {},
   "outputs": [
    {
     "name": "stdout",
     "output_type": "stream",
     "text": [
      "[[380   4]\n",
      " [ 24 215]]\n"
     ]
    }
   ],
   "source": [
    "print(confusion_matrix(y_train, y_pred))"
   ]
  },
  {
   "cell_type": "code",
   "execution_count": 20,
   "id": "a22d7129",
   "metadata": {},
   "outputs": [
    {
     "data": {
      "text/html": [
       "<div>\n",
       "<style scoped>\n",
       "    .dataframe tbody tr th:only-of-type {\n",
       "        vertical-align: middle;\n",
       "    }\n",
       "\n",
       "    .dataframe tbody tr th {\n",
       "        vertical-align: top;\n",
       "    }\n",
       "\n",
       "    .dataframe thead th {\n",
       "        text-align: right;\n",
       "    }\n",
       "</style>\n",
       "<table border=\"1\" class=\"dataframe\">\n",
       "  <thead>\n",
       "    <tr style=\"text-align: right;\">\n",
       "      <th>col_0</th>\n",
       "      <th>0</th>\n",
       "      <th>1</th>\n",
       "    </tr>\n",
       "    <tr>\n",
       "      <th>survived</th>\n",
       "      <th></th>\n",
       "      <th></th>\n",
       "    </tr>\n",
       "  </thead>\n",
       "  <tbody>\n",
       "    <tr>\n",
       "      <th>0</th>\n",
       "      <td>380</td>\n",
       "      <td>4</td>\n",
       "    </tr>\n",
       "    <tr>\n",
       "      <th>1</th>\n",
       "      <td>24</td>\n",
       "      <td>215</td>\n",
       "    </tr>\n",
       "  </tbody>\n",
       "</table>\n",
       "</div>"
      ],
      "text/plain": [
       "col_0       0    1\n",
       "survived          \n",
       "0         380    4\n",
       "1          24  215"
      ]
     },
     "execution_count": 20,
     "metadata": {},
     "output_type": "execute_result"
    }
   ],
   "source": [
    "pd.crosstab(y_train, y_pred)"
   ]
  },
  {
   "cell_type": "markdown",
   "id": "6e6ca153",
   "metadata": {},
   "source": [
    "---"
   ]
  },
  {
   "cell_type": "code",
   "execution_count": 22,
   "id": "9f7f97bc",
   "metadata": {},
   "outputs": [
    {
     "name": "stdout",
     "output_type": "stream",
     "text": [
      "              precision    recall  f1-score   support\n",
      "\n",
      "           0       0.94      0.99      0.96       384\n",
      "           1       0.98      0.90      0.94       239\n",
      "\n",
      "    accuracy                           0.96       623\n",
      "   macro avg       0.96      0.94      0.95       623\n",
      "weighted avg       0.96      0.96      0.95       623\n",
      "\n"
     ]
    }
   ],
   "source": [
    "print(classification_report(y_train, y_pred))"
   ]
  },
  {
   "cell_type": "markdown",
   "id": "b6442118",
   "metadata": {},
   "source": [
    "---"
   ]
  },
  {
   "cell_type": "code",
   "execution_count": 27,
   "id": "92f44b44",
   "metadata": {},
   "outputs": [
    {
     "data": {
      "text/plain": [
       "array([0, 0, 0, 0, 0])"
      ]
     },
     "execution_count": 27,
     "metadata": {},
     "output_type": "execute_result"
    }
   ],
   "source": [
    "# EVALUATE ON OUT OF SAMPLE DATA\n",
    "\n",
    "y_pred = rf.predict(X_val)\n",
    "\n",
    "y_pred[:5]"
   ]
  },
  {
   "cell_type": "code",
   "execution_count": 29,
   "id": "5295fdb2",
   "metadata": {
    "scrolled": true
   },
   "outputs": [
    {
     "data": {
      "text/plain": [
       "array([[0.53275   , 0.46725   ],\n",
       "       [0.95798034, 0.04201966],\n",
       "       [0.89504141, 0.10495859],\n",
       "       [0.92256798, 0.07743202],\n",
       "       [0.78294274, 0.21705726]])"
      ]
     },
     "execution_count": 29,
     "metadata": {},
     "output_type": "execute_result"
    }
   ],
   "source": [
    "y_pred_proba = rf.predict_proba(X_val)\n",
    "\n",
    "y_pred_proba[:5]"
   ]
  },
  {
   "cell_type": "code",
   "execution_count": 31,
   "id": "fbd49e90",
   "metadata": {},
   "outputs": [
    {
     "name": "stdout",
     "output_type": "stream",
     "text": [
      "[[74  8]\n",
      " [13 39]]\n"
     ]
    }
   ],
   "source": [
    "print(confusion_matrix(y_val, y_pred))"
   ]
  },
  {
   "cell_type": "code",
   "execution_count": 37,
   "id": "cc44fab5",
   "metadata": {},
   "outputs": [
    {
     "data": {
      "text/html": [
       "<div>\n",
       "<style scoped>\n",
       "    .dataframe tbody tr th:only-of-type {\n",
       "        vertical-align: middle;\n",
       "    }\n",
       "\n",
       "    .dataframe tbody tr th {\n",
       "        vertical-align: top;\n",
       "    }\n",
       "\n",
       "    .dataframe thead th {\n",
       "        text-align: right;\n",
       "    }\n",
       "</style>\n",
       "<table border=\"1\" class=\"dataframe\">\n",
       "  <thead>\n",
       "    <tr style=\"text-align: right;\">\n",
       "      <th>col_0</th>\n",
       "      <th>0</th>\n",
       "      <th>1</th>\n",
       "    </tr>\n",
       "    <tr>\n",
       "      <th>survived</th>\n",
       "      <th></th>\n",
       "      <th></th>\n",
       "    </tr>\n",
       "  </thead>\n",
       "  <tbody>\n",
       "    <tr>\n",
       "      <th>0</th>\n",
       "      <td>74</td>\n",
       "      <td>8</td>\n",
       "    </tr>\n",
       "    <tr>\n",
       "      <th>1</th>\n",
       "      <td>13</td>\n",
       "      <td>39</td>\n",
       "    </tr>\n",
       "  </tbody>\n",
       "</table>\n",
       "</div>"
      ],
      "text/plain": [
       "col_0      0   1\n",
       "survived        \n",
       "0         74   8\n",
       "1         13  39"
      ]
     },
     "execution_count": 37,
     "metadata": {},
     "output_type": "execute_result"
    }
   ],
   "source": [
    "pd.crosstab(y_val, y_pred)"
   ]
  },
  {
   "cell_type": "code",
   "execution_count": 43,
   "id": "8f1ad30f",
   "metadata": {
    "scrolled": true
   },
   "outputs": [
    {
     "data": {
      "text/plain": [
       "0.8432835820895522"
      ]
     },
     "execution_count": 43,
     "metadata": {},
     "output_type": "execute_result"
    }
   ],
   "source": [
    "a = rf.score(X_val, y_val)\n",
    "a"
   ]
  },
  {
   "cell_type": "code",
   "execution_count": 62,
   "id": "37c6bc50",
   "metadata": {},
   "outputs": [
    {
     "data": {
      "text/plain": [
       "0.8297872340425532"
      ]
     },
     "execution_count": 62,
     "metadata": {},
     "output_type": "execute_result"
    }
   ],
   "source": [
    "p = precision_score(y_val, y_pred)\n",
    "p"
   ]
  },
  {
   "cell_type": "code",
   "execution_count": 63,
   "id": "0d12ca69",
   "metadata": {},
   "outputs": [
    {
     "data": {
      "text/plain": [
       "0.75"
      ]
     },
     "execution_count": 63,
     "metadata": {},
     "output_type": "execute_result"
    }
   ],
   "source": [
    "r = recall_score(y_val, y_pred)\n",
    "r"
   ]
  },
  {
   "cell_type": "code",
   "execution_count": 30,
   "id": "786690d4",
   "metadata": {
    "scrolled": false
   },
   "outputs": [
    {
     "name": "stdout",
     "output_type": "stream",
     "text": [
      "              precision    recall  f1-score   support\n",
      "\n",
      "           0       0.85      0.90      0.88        82\n",
      "           1       0.83      0.75      0.79        52\n",
      "\n",
      "    accuracy                           0.84       134\n",
      "   macro avg       0.84      0.83      0.83       134\n",
      "weighted avg       0.84      0.84      0.84       134\n",
      "\n"
     ]
    }
   ],
   "source": [
    "print(classification_report(y_val, y_pred))"
   ]
  },
  {
   "cell_type": "markdown",
   "id": "0518ed38",
   "metadata": {},
   "source": [
    "## 3. Print and clearly label the following: Accuracy, true positive rate, false positive rate, true negative rate, false negative rate, precision, recall, f1-score, and support."
   ]
  },
  {
   "cell_type": "code",
   "execution_count": 70,
   "id": "6dcdebda",
   "metadata": {},
   "outputs": [
    {
     "name": "stdout",
     "output_type": "stream",
     "text": [
      "   Accuracy        TP        FP        TN        FN  Precision  Recall  \\\n",
      "0  0.843284  0.291045  0.059701  0.552239  0.097015   0.829787    0.75   \n",
      "\n",
      "   F1-score  Suupport  \n",
      "0      0.79        52  \n"
     ]
    }
   ],
   "source": [
    "print(pd.DataFrame({'Accuracy': a,\n",
    "                   'TP': 39/134,\n",
    "                   'FP': 8/134,\n",
    "                   'TN': 74/134,\n",
    "                   'FN': 13/134,\n",
    "                   'Precision': p,\n",
    "                   'Recall': r,\n",
    "                   'F1-score': .79,\n",
    "                   'Suupport': 52}, index = [0]))"
   ]
  },
  {
   "cell_type": "markdown",
   "id": "2b47043a",
   "metadata": {},
   "source": [
    "## 4. Run through steps increasing your min_samples_leaf and decreasing your max_depth."
   ]
  },
  {
   "cell_type": "code",
   "execution_count": null,
   "id": "958e993b",
   "metadata": {},
   "outputs": [],
   "source": []
  },
  {
   "cell_type": "markdown",
   "id": "930fbe18",
   "metadata": {},
   "source": [
    "## 5. What are the differences in the evaluation metrics? Which performs better on your in-sample data? Why?"
   ]
  },
  {
   "cell_type": "code",
   "execution_count": null,
   "id": "341e955d",
   "metadata": {},
   "outputs": [],
   "source": []
  },
  {
   "cell_type": "markdown",
   "id": "c90a58bb",
   "metadata": {},
   "source": [
    "## After making a few models, which one has the best performance (or closest metrics) on both train and validate?"
   ]
  },
  {
   "cell_type": "code",
   "execution_count": null,
   "id": "db4ff05c",
   "metadata": {},
   "outputs": [],
   "source": []
  }
 ],
 "metadata": {
  "kernelspec": {
   "display_name": "Python 3 (ipykernel)",
   "language": "python",
   "name": "python3"
  },
  "language_info": {
   "codemirror_mode": {
    "name": "ipython",
    "version": 3
   },
   "file_extension": ".py",
   "mimetype": "text/x-python",
   "name": "python",
   "nbconvert_exporter": "python",
   "pygments_lexer": "ipython3",
   "version": "3.11.3"
  }
 },
 "nbformat": 4,
 "nbformat_minor": 5
}
