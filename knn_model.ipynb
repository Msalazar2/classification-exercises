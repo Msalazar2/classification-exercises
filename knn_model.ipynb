{
 "cells": [
  {
   "cell_type": "code",
   "execution_count": 1,
   "id": "e2d84995",
   "metadata": {},
   "outputs": [],
   "source": [
    "import pandas as pd\n",
    "import matplotlib.pyplot as plt\n",
    "from sklearn.preprocessing import MinMaxScaler\n",
    "from sklearn.neighbors import KNeighborsClassifier\n",
    "from adam_prepare import titanic_pipeline\n",
    "from sklearn.metrics import classification_report\n",
    "from sklearn.metrics import confusion_matrix\n",
    "from sklearn.metrics import precision_score, recall_score, accuracy_score"
   ]
  },
  {
   "cell_type": "markdown",
   "id": "bd5ec3b9",
   "metadata": {},
   "source": [
    "## Fit a K-Nearest Neighbors classifier to your training sample and transform (i.e. make predictions on the training sample)"
   ]
  },
  {
   "cell_type": "code",
   "execution_count": 2,
   "id": "dee63b9f",
   "metadata": {},
   "outputs": [
    {
     "data": {
      "text/html": [
       "<div>\n",
       "<style scoped>\n",
       "    .dataframe tbody tr th:only-of-type {\n",
       "        vertical-align: middle;\n",
       "    }\n",
       "\n",
       "    .dataframe tbody tr th {\n",
       "        vertical-align: top;\n",
       "    }\n",
       "\n",
       "    .dataframe thead th {\n",
       "        text-align: right;\n",
       "    }\n",
       "</style>\n",
       "<table border=\"1\" class=\"dataframe\">\n",
       "  <thead>\n",
       "    <tr style=\"text-align: right;\">\n",
       "      <th></th>\n",
       "      <th>survived</th>\n",
       "      <th>age</th>\n",
       "      <th>sibsp</th>\n",
       "      <th>parch</th>\n",
       "      <th>fare</th>\n",
       "      <th>alone</th>\n",
       "      <th>sex_male</th>\n",
       "      <th>class_First</th>\n",
       "      <th>class_Second</th>\n",
       "      <th>class_Third</th>\n",
       "      <th>embark_town_Cherbourg</th>\n",
       "      <th>embark_town_Queenstown</th>\n",
       "      <th>embark_town_Southampton</th>\n",
       "    </tr>\n",
       "  </thead>\n",
       "  <tbody>\n",
       "    <tr>\n",
       "      <th>748</th>\n",
       "      <td>0</td>\n",
       "      <td>19.0</td>\n",
       "      <td>1</td>\n",
       "      <td>0</td>\n",
       "      <td>53.1000</td>\n",
       "      <td>0</td>\n",
       "      <td>1</td>\n",
       "      <td>1</td>\n",
       "      <td>0</td>\n",
       "      <td>0</td>\n",
       "      <td>0</td>\n",
       "      <td>0</td>\n",
       "      <td>1</td>\n",
       "    </tr>\n",
       "    <tr>\n",
       "      <th>45</th>\n",
       "      <td>0</td>\n",
       "      <td>29.0</td>\n",
       "      <td>0</td>\n",
       "      <td>0</td>\n",
       "      <td>8.0500</td>\n",
       "      <td>1</td>\n",
       "      <td>1</td>\n",
       "      <td>0</td>\n",
       "      <td>0</td>\n",
       "      <td>1</td>\n",
       "      <td>0</td>\n",
       "      <td>0</td>\n",
       "      <td>1</td>\n",
       "    </tr>\n",
       "    <tr>\n",
       "      <th>28</th>\n",
       "      <td>1</td>\n",
       "      <td>29.0</td>\n",
       "      <td>0</td>\n",
       "      <td>0</td>\n",
       "      <td>7.8792</td>\n",
       "      <td>1</td>\n",
       "      <td>0</td>\n",
       "      <td>0</td>\n",
       "      <td>0</td>\n",
       "      <td>1</td>\n",
       "      <td>0</td>\n",
       "      <td>1</td>\n",
       "      <td>0</td>\n",
       "    </tr>\n",
       "    <tr>\n",
       "      <th>633</th>\n",
       "      <td>0</td>\n",
       "      <td>29.0</td>\n",
       "      <td>0</td>\n",
       "      <td>0</td>\n",
       "      <td>0.0000</td>\n",
       "      <td>1</td>\n",
       "      <td>1</td>\n",
       "      <td>1</td>\n",
       "      <td>0</td>\n",
       "      <td>0</td>\n",
       "      <td>0</td>\n",
       "      <td>0</td>\n",
       "      <td>1</td>\n",
       "    </tr>\n",
       "    <tr>\n",
       "      <th>403</th>\n",
       "      <td>0</td>\n",
       "      <td>28.0</td>\n",
       "      <td>1</td>\n",
       "      <td>0</td>\n",
       "      <td>15.8500</td>\n",
       "      <td>0</td>\n",
       "      <td>1</td>\n",
       "      <td>0</td>\n",
       "      <td>0</td>\n",
       "      <td>1</td>\n",
       "      <td>0</td>\n",
       "      <td>0</td>\n",
       "      <td>1</td>\n",
       "    </tr>\n",
       "  </tbody>\n",
       "</table>\n",
       "</div>"
      ],
      "text/plain": [
       "     survived   age  sibsp  parch     fare  alone  sex_male  class_First  \\\n",
       "748         0  19.0      1      0  53.1000      0         1            1   \n",
       "45          0  29.0      0      0   8.0500      1         1            0   \n",
       "28          1  29.0      0      0   7.8792      1         0            0   \n",
       "633         0  29.0      0      0   0.0000      1         1            1   \n",
       "403         0  28.0      1      0  15.8500      0         1            0   \n",
       "\n",
       "     class_Second  class_Third  embark_town_Cherbourg  embark_town_Queenstown  \\\n",
       "748             0            0                      0                       0   \n",
       "45              0            1                      0                       0   \n",
       "28              0            1                      0                       1   \n",
       "633             0            0                      0                       0   \n",
       "403             0            1                      0                       0   \n",
       "\n",
       "     embark_town_Southampton  \n",
       "748                        1  \n",
       "45                         1  \n",
       "28                         0  \n",
       "633                        1  \n",
       "403                        1  "
      ]
     },
     "execution_count": 2,
     "metadata": {},
     "output_type": "execute_result"
    }
   ],
   "source": [
    "# TRAIN, VALIDATE, TEST DATA YOU ACQUIRED:\n",
    "\n",
    "# SPLIT DATA\n",
    "\n",
    "train, val, test = titanic_pipeline()\n",
    "train.head()"
   ]
  },
  {
   "cell_type": "code",
   "execution_count": 3,
   "id": "3335f45a",
   "metadata": {},
   "outputs": [
    {
     "data": {
      "text/plain": [
       "((623, 13), (134, 13))"
      ]
     },
     "execution_count": 3,
     "metadata": {},
     "output_type": "execute_result"
    }
   ],
   "source": [
    "train.shape, val.shape"
   ]
  },
  {
   "cell_type": "markdown",
   "id": "50df4bdd",
   "metadata": {},
   "source": [
    "---"
   ]
  },
  {
   "cell_type": "code",
   "execution_count": 4,
   "id": "cf160775",
   "metadata": {},
   "outputs": [],
   "source": [
    "# CREATE X AND Y DATAFRAMES FOR TRAIN & VALIDATE\n",
    "\n",
    "# define a function to split our subsets into X and y.\n",
    "def xy_split(df):\n",
    "    \n",
    "    return df.drop(columns = ['survived']), df.survived"
   ]
  },
  {
   "cell_type": "code",
   "execution_count": 5,
   "id": "f566bb96",
   "metadata": {
    "scrolled": true
   },
   "outputs": [
    {
     "data": {
      "text/html": [
       "<div>\n",
       "<style scoped>\n",
       "    .dataframe tbody tr th:only-of-type {\n",
       "        vertical-align: middle;\n",
       "    }\n",
       "\n",
       "    .dataframe tbody tr th {\n",
       "        vertical-align: top;\n",
       "    }\n",
       "\n",
       "    .dataframe thead th {\n",
       "        text-align: right;\n",
       "    }\n",
       "</style>\n",
       "<table border=\"1\" class=\"dataframe\">\n",
       "  <thead>\n",
       "    <tr style=\"text-align: right;\">\n",
       "      <th></th>\n",
       "      <th>age</th>\n",
       "      <th>sibsp</th>\n",
       "      <th>parch</th>\n",
       "      <th>fare</th>\n",
       "      <th>alone</th>\n",
       "      <th>sex_male</th>\n",
       "      <th>class_First</th>\n",
       "      <th>class_Second</th>\n",
       "      <th>class_Third</th>\n",
       "      <th>embark_town_Cherbourg</th>\n",
       "      <th>embark_town_Queenstown</th>\n",
       "      <th>embark_town_Southampton</th>\n",
       "    </tr>\n",
       "  </thead>\n",
       "  <tbody>\n",
       "    <tr>\n",
       "      <th>748</th>\n",
       "      <td>19.0</td>\n",
       "      <td>1</td>\n",
       "      <td>0</td>\n",
       "      <td>53.1000</td>\n",
       "      <td>0</td>\n",
       "      <td>1</td>\n",
       "      <td>1</td>\n",
       "      <td>0</td>\n",
       "      <td>0</td>\n",
       "      <td>0</td>\n",
       "      <td>0</td>\n",
       "      <td>1</td>\n",
       "    </tr>\n",
       "    <tr>\n",
       "      <th>45</th>\n",
       "      <td>29.0</td>\n",
       "      <td>0</td>\n",
       "      <td>0</td>\n",
       "      <td>8.0500</td>\n",
       "      <td>1</td>\n",
       "      <td>1</td>\n",
       "      <td>0</td>\n",
       "      <td>0</td>\n",
       "      <td>1</td>\n",
       "      <td>0</td>\n",
       "      <td>0</td>\n",
       "      <td>1</td>\n",
       "    </tr>\n",
       "    <tr>\n",
       "      <th>28</th>\n",
       "      <td>29.0</td>\n",
       "      <td>0</td>\n",
       "      <td>0</td>\n",
       "      <td>7.8792</td>\n",
       "      <td>1</td>\n",
       "      <td>0</td>\n",
       "      <td>0</td>\n",
       "      <td>0</td>\n",
       "      <td>1</td>\n",
       "      <td>0</td>\n",
       "      <td>1</td>\n",
       "      <td>0</td>\n",
       "    </tr>\n",
       "    <tr>\n",
       "      <th>633</th>\n",
       "      <td>29.0</td>\n",
       "      <td>0</td>\n",
       "      <td>0</td>\n",
       "      <td>0.0000</td>\n",
       "      <td>1</td>\n",
       "      <td>1</td>\n",
       "      <td>1</td>\n",
       "      <td>0</td>\n",
       "      <td>0</td>\n",
       "      <td>0</td>\n",
       "      <td>0</td>\n",
       "      <td>1</td>\n",
       "    </tr>\n",
       "    <tr>\n",
       "      <th>403</th>\n",
       "      <td>28.0</td>\n",
       "      <td>1</td>\n",
       "      <td>0</td>\n",
       "      <td>15.8500</td>\n",
       "      <td>0</td>\n",
       "      <td>1</td>\n",
       "      <td>0</td>\n",
       "      <td>0</td>\n",
       "      <td>1</td>\n",
       "      <td>0</td>\n",
       "      <td>0</td>\n",
       "      <td>1</td>\n",
       "    </tr>\n",
       "  </tbody>\n",
       "</table>\n",
       "</div>"
      ],
      "text/plain": [
       "      age  sibsp  parch     fare  alone  sex_male  class_First  class_Second  \\\n",
       "748  19.0      1      0  53.1000      0         1            1             0   \n",
       "45   29.0      0      0   8.0500      1         1            0             0   \n",
       "28   29.0      0      0   7.8792      1         0            0             0   \n",
       "633  29.0      0      0   0.0000      1         1            1             0   \n",
       "403  28.0      1      0  15.8500      0         1            0             0   \n",
       "\n",
       "     class_Third  embark_town_Cherbourg  embark_town_Queenstown  \\\n",
       "748            0                      0                       0   \n",
       "45             1                      0                       0   \n",
       "28             1                      0                       1   \n",
       "633            0                      0                       0   \n",
       "403            1                      0                       0   \n",
       "\n",
       "     embark_town_Southampton  \n",
       "748                        1  \n",
       "45                         1  \n",
       "28                         0  \n",
       "633                        1  \n",
       "403                        1  "
      ]
     },
     "execution_count": 5,
     "metadata": {},
     "output_type": "execute_result"
    }
   ],
   "source": [
    "# X = ALL FEATURES/INDEPENDENT VARIABLES, WHERE IT REPRESENTS RELATIONAL FEATURES USED TO PREDICT GROUND TRUTH \n",
    "# y = TARGET/DEPENDENT VARIABLE, WHERE IT REPRESENTS GROUND TRUTH THAT THE MODEL LEARNS TO PREDICT\n",
    "\n",
    "X_train, y_train = xy_split(train)\n",
    "X_val, y_val = xy_split(val)\n",
    "\n",
    "X_train.head()"
   ]
  },
  {
   "cell_type": "markdown",
   "id": "96556d77",
   "metadata": {},
   "source": [
    "---"
   ]
  },
  {
   "cell_type": "code",
   "execution_count": 6,
   "id": "e2e6a0e7",
   "metadata": {
    "scrolled": false
   },
   "outputs": [
    {
     "data": {
      "text/html": [
       "<div>\n",
       "<style scoped>\n",
       "    .dataframe tbody tr th:only-of-type {\n",
       "        vertical-align: middle;\n",
       "    }\n",
       "\n",
       "    .dataframe tbody tr th {\n",
       "        vertical-align: top;\n",
       "    }\n",
       "\n",
       "    .dataframe thead th {\n",
       "        text-align: right;\n",
       "    }\n",
       "</style>\n",
       "<table border=\"1\" class=\"dataframe\">\n",
       "  <thead>\n",
       "    <tr style=\"text-align: right;\">\n",
       "      <th></th>\n",
       "      <th>age</th>\n",
       "      <th>sibsp</th>\n",
       "      <th>parch</th>\n",
       "      <th>fare</th>\n",
       "      <th>alone</th>\n",
       "      <th>sex_male</th>\n",
       "      <th>class_First</th>\n",
       "      <th>class_Second</th>\n",
       "      <th>class_Third</th>\n",
       "      <th>embark_town_Cherbourg</th>\n",
       "      <th>embark_town_Queenstown</th>\n",
       "      <th>embark_town_Southampton</th>\n",
       "    </tr>\n",
       "  </thead>\n",
       "  <tbody>\n",
       "    <tr>\n",
       "      <th>748</th>\n",
       "      <td>0.233476</td>\n",
       "      <td>1</td>\n",
       "      <td>0</td>\n",
       "      <td>0.103644</td>\n",
       "      <td>0</td>\n",
       "      <td>1</td>\n",
       "      <td>1</td>\n",
       "      <td>0</td>\n",
       "      <td>0</td>\n",
       "      <td>0</td>\n",
       "      <td>0</td>\n",
       "      <td>1</td>\n",
       "    </tr>\n",
       "    <tr>\n",
       "      <th>45</th>\n",
       "      <td>0.359135</td>\n",
       "      <td>0</td>\n",
       "      <td>0</td>\n",
       "      <td>0.015713</td>\n",
       "      <td>1</td>\n",
       "      <td>1</td>\n",
       "      <td>0</td>\n",
       "      <td>0</td>\n",
       "      <td>1</td>\n",
       "      <td>0</td>\n",
       "      <td>0</td>\n",
       "      <td>1</td>\n",
       "    </tr>\n",
       "    <tr>\n",
       "      <th>28</th>\n",
       "      <td>0.359135</td>\n",
       "      <td>0</td>\n",
       "      <td>0</td>\n",
       "      <td>0.015379</td>\n",
       "      <td>1</td>\n",
       "      <td>0</td>\n",
       "      <td>0</td>\n",
       "      <td>0</td>\n",
       "      <td>1</td>\n",
       "      <td>0</td>\n",
       "      <td>1</td>\n",
       "      <td>0</td>\n",
       "    </tr>\n",
       "    <tr>\n",
       "      <th>633</th>\n",
       "      <td>0.359135</td>\n",
       "      <td>0</td>\n",
       "      <td>0</td>\n",
       "      <td>0.000000</td>\n",
       "      <td>1</td>\n",
       "      <td>1</td>\n",
       "      <td>1</td>\n",
       "      <td>0</td>\n",
       "      <td>0</td>\n",
       "      <td>0</td>\n",
       "      <td>0</td>\n",
       "      <td>1</td>\n",
       "    </tr>\n",
       "    <tr>\n",
       "      <th>403</th>\n",
       "      <td>0.346569</td>\n",
       "      <td>1</td>\n",
       "      <td>0</td>\n",
       "      <td>0.030937</td>\n",
       "      <td>0</td>\n",
       "      <td>1</td>\n",
       "      <td>0</td>\n",
       "      <td>0</td>\n",
       "      <td>1</td>\n",
       "      <td>0</td>\n",
       "      <td>0</td>\n",
       "      <td>1</td>\n",
       "    </tr>\n",
       "  </tbody>\n",
       "</table>\n",
       "</div>"
      ],
      "text/plain": [
       "          age  sibsp  parch      fare  alone  sex_male  class_First  \\\n",
       "748  0.233476      1      0  0.103644      0         1            1   \n",
       "45   0.359135      0      0  0.015713      1         1            0   \n",
       "28   0.359135      0      0  0.015379      1         0            0   \n",
       "633  0.359135      0      0  0.000000      1         1            1   \n",
       "403  0.346569      1      0  0.030937      0         1            0   \n",
       "\n",
       "     class_Second  class_Third  embark_town_Cherbourg  embark_town_Queenstown  \\\n",
       "748             0            0                      0                       0   \n",
       "45              0            1                      0                       0   \n",
       "28              0            1                      0                       1   \n",
       "633             0            0                      0                       0   \n",
       "403             0            1                      0                       0   \n",
       "\n",
       "     embark_town_Southampton  \n",
       "748                        1  \n",
       "45                         1  \n",
       "28                         0  \n",
       "633                        1  \n",
       "403                        1  "
      ]
     },
     "execution_count": 6,
     "metadata": {},
     "output_type": "execute_result"
    }
   ],
   "source": [
    "# TRANSFORM NUMERICAL FEATURES TO A SPECIFIED RANGE ON A SIMILAR SCALE AS THE REST OF FEATURES.\n",
    "# THIS PREVENTS LARGE MAGNITUDES FROM DOMINATING BAHAVIOR OF MODEL\n",
    "# DEFAULT RANGE IS (0,2) BECAUSE WHEN ONE-HOT ENCODING CATEGORICAL DATA USING pandas get_dummies() FUNCTION, IT \n",
    "# TRANSFORMS FEATURE VALUES TO FALSE OR TRUE (0,1)\n",
    "\n",
    "mms = MinMaxScaler()\n",
    "\n",
    "X_train[['age', 'fare']] = mms.fit_transform(X_train[['age', 'fare']])\n",
    "X_val[['age', 'fare']] = mms.transform(X_val[['age', 'fare']])\n",
    "\n",
    "X_train.head()"
   ]
  },
  {
   "cell_type": "markdown",
   "id": "622271c2",
   "metadata": {},
   "source": [
    "---"
   ]
  },
  {
   "cell_type": "code",
   "execution_count": 7,
   "id": "73ad5778",
   "metadata": {
    "scrolled": true
   },
   "outputs": [
    {
     "data": {
      "text/html": [
       "<style>#sk-container-id-1 {color: black;background-color: white;}#sk-container-id-1 pre{padding: 0;}#sk-container-id-1 div.sk-toggleable {background-color: white;}#sk-container-id-1 label.sk-toggleable__label {cursor: pointer;display: block;width: 100%;margin-bottom: 0;padding: 0.3em;box-sizing: border-box;text-align: center;}#sk-container-id-1 label.sk-toggleable__label-arrow:before {content: \"▸\";float: left;margin-right: 0.25em;color: #696969;}#sk-container-id-1 label.sk-toggleable__label-arrow:hover:before {color: black;}#sk-container-id-1 div.sk-estimator:hover label.sk-toggleable__label-arrow:before {color: black;}#sk-container-id-1 div.sk-toggleable__content {max-height: 0;max-width: 0;overflow: hidden;text-align: left;background-color: #f0f8ff;}#sk-container-id-1 div.sk-toggleable__content pre {margin: 0.2em;color: black;border-radius: 0.25em;background-color: #f0f8ff;}#sk-container-id-1 input.sk-toggleable__control:checked~div.sk-toggleable__content {max-height: 200px;max-width: 100%;overflow: auto;}#sk-container-id-1 input.sk-toggleable__control:checked~label.sk-toggleable__label-arrow:before {content: \"▾\";}#sk-container-id-1 div.sk-estimator input.sk-toggleable__control:checked~label.sk-toggleable__label {background-color: #d4ebff;}#sk-container-id-1 div.sk-label input.sk-toggleable__control:checked~label.sk-toggleable__label {background-color: #d4ebff;}#sk-container-id-1 input.sk-hidden--visually {border: 0;clip: rect(1px 1px 1px 1px);clip: rect(1px, 1px, 1px, 1px);height: 1px;margin: -1px;overflow: hidden;padding: 0;position: absolute;width: 1px;}#sk-container-id-1 div.sk-estimator {font-family: monospace;background-color: #f0f8ff;border: 1px dotted black;border-radius: 0.25em;box-sizing: border-box;margin-bottom: 0.5em;}#sk-container-id-1 div.sk-estimator:hover {background-color: #d4ebff;}#sk-container-id-1 div.sk-parallel-item::after {content: \"\";width: 100%;border-bottom: 1px solid gray;flex-grow: 1;}#sk-container-id-1 div.sk-label:hover label.sk-toggleable__label {background-color: #d4ebff;}#sk-container-id-1 div.sk-serial::before {content: \"\";position: absolute;border-left: 1px solid gray;box-sizing: border-box;top: 0;bottom: 0;left: 50%;z-index: 0;}#sk-container-id-1 div.sk-serial {display: flex;flex-direction: column;align-items: center;background-color: white;padding-right: 0.2em;padding-left: 0.2em;position: relative;}#sk-container-id-1 div.sk-item {position: relative;z-index: 1;}#sk-container-id-1 div.sk-parallel {display: flex;align-items: stretch;justify-content: center;background-color: white;position: relative;}#sk-container-id-1 div.sk-item::before, #sk-container-id-1 div.sk-parallel-item::before {content: \"\";position: absolute;border-left: 1px solid gray;box-sizing: border-box;top: 0;bottom: 0;left: 50%;z-index: -1;}#sk-container-id-1 div.sk-parallel-item {display: flex;flex-direction: column;z-index: 1;position: relative;background-color: white;}#sk-container-id-1 div.sk-parallel-item:first-child::after {align-self: flex-end;width: 50%;}#sk-container-id-1 div.sk-parallel-item:last-child::after {align-self: flex-start;width: 50%;}#sk-container-id-1 div.sk-parallel-item:only-child::after {width: 0;}#sk-container-id-1 div.sk-dashed-wrapped {border: 1px dashed gray;margin: 0 0.4em 0.5em 0.4em;box-sizing: border-box;padding-bottom: 0.4em;background-color: white;}#sk-container-id-1 div.sk-label label {font-family: monospace;font-weight: bold;display: inline-block;line-height: 1.2em;}#sk-container-id-1 div.sk-label-container {text-align: center;}#sk-container-id-1 div.sk-container {/* jupyter's `normalize.less` sets `[hidden] { display: none; }` but bootstrap.min.css set `[hidden] { display: none !important; }` so we also need the `!important` here to be able to override the default hidden behavior on the sphinx rendered scikit-learn.org. See: https://github.com/scikit-learn/scikit-learn/issues/21755 */display: inline-block !important;position: relative;}#sk-container-id-1 div.sk-text-repr-fallback {display: none;}</style><div id=\"sk-container-id-1\" class=\"sk-top-container\"><div class=\"sk-text-repr-fallback\"><pre>KNeighborsClassifier()</pre><b>In a Jupyter environment, please rerun this cell to show the HTML representation or trust the notebook. <br />On GitHub, the HTML representation is unable to render, please try loading this page with nbviewer.org.</b></div><div class=\"sk-container\" hidden><div class=\"sk-item\"><div class=\"sk-estimator sk-toggleable\"><input class=\"sk-toggleable__control sk-hidden--visually\" id=\"sk-estimator-id-1\" type=\"checkbox\" checked><label for=\"sk-estimator-id-1\" class=\"sk-toggleable__label sk-toggleable__label-arrow\">KNeighborsClassifier</label><div class=\"sk-toggleable__content\"><pre>KNeighborsClassifier()</pre></div></div></div></div></div>"
      ],
      "text/plain": [
       "KNeighborsClassifier()"
      ]
     },
     "execution_count": 7,
     "metadata": {},
     "output_type": "execute_result"
    }
   ],
   "source": [
    "# TRAIN MODEL \n",
    "\n",
    "# CREATE KNN OBJECT\n",
    "knn = KNeighborsClassifier()\n",
    "\n",
    "# USE .fit() METHOD TO AUTOMATICALLY OPTIMIZE INTERNAL PARAMETERS OF THE MODEL USING THE TRAINING DATA\n",
    "knn.fit(X_train, y_train)"
   ]
  },
  {
   "cell_type": "markdown",
   "id": "3ea2b0d0",
   "metadata": {},
   "source": [
    "---"
   ]
  },
  {
   "cell_type": "code",
   "execution_count": 8,
   "id": "a3d07c15",
   "metadata": {},
   "outputs": [
    {
     "data": {
      "text/plain": [
       "array([1, 0, 1, 0, 0])"
      ]
     },
     "execution_count": 8,
     "metadata": {},
     "output_type": "execute_result"
    }
   ],
   "source": [
    "# MAKE PREDICTIONS BASED OF THE EUCLIDEAN DISTANCE FROM NEW DATA POINT TO FEATURES AND CHOOSES MODE OF CLOSEST FEATURES\n",
    "# YOUR MODEL LEARNED DURING TRAINING TO NEW DATA\n",
    "\n",
    "# SO HOW DOES IT KNOW IF EACH FEATURE IS TRUE OR FALSE IF WE DROP THE TARGET VARIBALE FROM THE  X TRAIN?\n",
    "\n",
    "y_pred = knn.predict(X_train)\n",
    "y_pred[:5]"
   ]
  },
  {
   "cell_type": "code",
   "execution_count": null,
   "id": "69284aab",
   "metadata": {},
   "outputs": [],
   "source": []
  },
  {
   "cell_type": "markdown",
   "id": "f0fd6240",
   "metadata": {},
   "source": [
    "---"
   ]
  },
  {
   "cell_type": "code",
   "execution_count": 9,
   "id": "389d1cac",
   "metadata": {},
   "outputs": [
    {
     "data": {
      "text/plain": [
       "array([[0.4, 0.6],\n",
       "       [1. , 0. ],\n",
       "       [0.2, 0.8],\n",
       "       ...,\n",
       "       [0.8, 0.2],\n",
       "       [0.8, 0.2],\n",
       "       [0. , 1. ]])"
      ]
     },
     "execution_count": 9,
     "metadata": {},
     "output_type": "execute_result"
    }
   ],
   "source": [
    "# ESTIMATE THE PROBABILITY OF EACH PREDICTION\n",
    "\n",
    "y_pred_proba = knn.predict_proba(X_train)\n",
    "y_pred_proba"
   ]
  },
  {
   "cell_type": "markdown",
   "id": "bcc9c08f",
   "metadata": {},
   "source": [
    "---"
   ]
  },
  {
   "cell_type": "code",
   "execution_count": 10,
   "id": "f7e40206",
   "metadata": {},
   "outputs": [],
   "source": [
    "# VALIDATE MODEL\n",
    "\n",
    "# EVALUATE ON OUT OF SAMPLE DATA\n",
    "\n",
    "#y_pred = knn.predict(X_val)\n",
    "#y_pred[:5]"
   ]
  },
  {
   "cell_type": "code",
   "execution_count": 11,
   "id": "ffe91ebe",
   "metadata": {},
   "outputs": [],
   "source": [
    "#y_pred_proba = knn.predict_proba(X_val)\n",
    "#y_pred_proba[:5]"
   ]
  },
  {
   "cell_type": "code",
   "execution_count": 12,
   "id": "33409266",
   "metadata": {},
   "outputs": [],
   "source": [
    "#knn.score(X_val, y_val)"
   ]
  },
  {
   "cell_type": "markdown",
   "id": "83f0f086",
   "metadata": {},
   "source": [
    "## Evaluate your results using the model score, confusion matrix, and classification report."
   ]
  },
  {
   "cell_type": "code",
   "execution_count": 13,
   "id": "07a14c4e",
   "metadata": {},
   "outputs": [
    {
     "data": {
      "text/plain": [
       "(0.8619582664526485, 0.8208955223880597)"
      ]
     },
     "execution_count": 13,
     "metadata": {},
     "output_type": "execute_result"
    }
   ],
   "source": [
    "# EVALUATE THE MODEL\n",
    "\n",
    "# COMPUTE THE ACCURACY OF YOUR MODEL USING .score() method\n",
    "knn.score(X_train, y_train), knn.score(X_val, y_val)"
   ]
  },
  {
   "cell_type": "markdown",
   "id": "920c7057",
   "metadata": {},
   "source": [
    "---"
   ]
  },
  {
   "cell_type": "code",
   "execution_count": 14,
   "id": "8ac81ae3",
   "metadata": {},
   "outputs": [
    {
     "name": "stdout",
     "output_type": "stream",
     "text": [
      "[[352  32]\n",
      " [ 54 185]]\n"
     ]
    }
   ],
   "source": [
    "# CREATE CONFUSION MATRIX\n",
    "print(confusion_matrix(y_train, y_pred))"
   ]
  },
  {
   "cell_type": "markdown",
   "id": "368e83e2",
   "metadata": {},
   "source": [
    "---"
   ]
  },
  {
   "cell_type": "code",
   "execution_count": 15,
   "id": "dedcd783",
   "metadata": {},
   "outputs": [
    {
     "name": "stdout",
     "output_type": "stream",
     "text": [
      "              precision    recall  f1-score   support\n",
      "\n",
      "           0       0.87      0.92      0.89       384\n",
      "           1       0.85      0.77      0.81       239\n",
      "\n",
      "    accuracy                           0.86       623\n",
      "   macro avg       0.86      0.85      0.85       623\n",
      "weighted avg       0.86      0.86      0.86       623\n",
      "\n"
     ]
    }
   ],
   "source": [
    "print(classification_report(y_train, y_pred))"
   ]
  },
  {
   "cell_type": "markdown",
   "id": "bfa93223",
   "metadata": {},
   "source": [
    "## Print and clearly label the following: Accuracy, true positive rate, false positive rate, true negative rate, false negative rate, precision, recall, f1-score, and support."
   ]
  },
  {
   "cell_type": "code",
   "execution_count": 16,
   "id": "9f7b5f2d",
   "metadata": {},
   "outputs": [],
   "source": [
    "def theometrics(TP, TN, FP, FN):\n",
    "    accuracy = (TP + TN) / (TP + TN + FP + FN)\n",
    "    recall = TP / (TP + FN)\n",
    "    true_positive_rate = TP / (TP + FN)\n",
    "    false_positive_rate = FP / (FP + TN)\n",
    "    true_negative_rate = TN / (TN + FP)\n",
    "    false_negative_rate = FN / (FN + TP)\n",
    "    precision = TP / (TP + FP)\n",
    "    f1_score = 2 * (precision * recall) / (precision + recall)\n",
    "    support = TP + FN\n",
    "    data = {\n",
    "        'Metric': ['Accuracy', 'Recall', 'True Positive Rate', 'False Positive Rate', 'True Negative Rate', 'False Negative Rate', 'Precision', 'F1-Score', 'Support'],\n",
    "        'Value': [accuracy, recall, true_positive_rate, false_positive_rate, true_negative_rate, false_negative_rate, precision, f1_score, support]\n",
    "    }\n",
    "    theometrics = pd.DataFrame(data)\n",
    "    return theometrics"
   ]
  },
  {
   "cell_type": "code",
   "execution_count": 17,
   "id": "3619256a",
   "metadata": {},
   "outputs": [
    {
     "data": {
      "text/html": [
       "<div>\n",
       "<style scoped>\n",
       "    .dataframe tbody tr th:only-of-type {\n",
       "        vertical-align: middle;\n",
       "    }\n",
       "\n",
       "    .dataframe tbody tr th {\n",
       "        vertical-align: top;\n",
       "    }\n",
       "\n",
       "    .dataframe thead th {\n",
       "        text-align: right;\n",
       "    }\n",
       "</style>\n",
       "<table border=\"1\" class=\"dataframe\">\n",
       "  <thead>\n",
       "    <tr style=\"text-align: right;\">\n",
       "      <th>col_0</th>\n",
       "      <th>0</th>\n",
       "      <th>1</th>\n",
       "    </tr>\n",
       "    <tr>\n",
       "      <th>survived</th>\n",
       "      <th></th>\n",
       "      <th></th>\n",
       "    </tr>\n",
       "  </thead>\n",
       "  <tbody>\n",
       "    <tr>\n",
       "      <th>0</th>\n",
       "      <td>352</td>\n",
       "      <td>32</td>\n",
       "    </tr>\n",
       "    <tr>\n",
       "      <th>1</th>\n",
       "      <td>54</td>\n",
       "      <td>185</td>\n",
       "    </tr>\n",
       "  </tbody>\n",
       "</table>\n",
       "</div>"
      ],
      "text/plain": [
       "col_0       0    1\n",
       "survived          \n",
       "0         352   32\n",
       "1          54  185"
      ]
     },
     "execution_count": 17,
     "metadata": {},
     "output_type": "execute_result"
    }
   ],
   "source": [
    "pd.crosstab(y_train, y_pred)"
   ]
  },
  {
   "cell_type": "code",
   "execution_count": 18,
   "id": "f8deb38f",
   "metadata": {},
   "outputs": [
    {
     "data": {
      "text/html": [
       "<div>\n",
       "<style scoped>\n",
       "    .dataframe tbody tr th:only-of-type {\n",
       "        vertical-align: middle;\n",
       "    }\n",
       "\n",
       "    .dataframe tbody tr th {\n",
       "        vertical-align: top;\n",
       "    }\n",
       "\n",
       "    .dataframe thead th {\n",
       "        text-align: right;\n",
       "    }\n",
       "</style>\n",
       "<table border=\"1\" class=\"dataframe\">\n",
       "  <thead>\n",
       "    <tr style=\"text-align: right;\">\n",
       "      <th></th>\n",
       "      <th>Metric</th>\n",
       "      <th>Value</th>\n",
       "    </tr>\n",
       "  </thead>\n",
       "  <tbody>\n",
       "    <tr>\n",
       "      <th>0</th>\n",
       "      <td>Accuracy</td>\n",
       "      <td>0.861958</td>\n",
       "    </tr>\n",
       "    <tr>\n",
       "      <th>1</th>\n",
       "      <td>Recall</td>\n",
       "      <td>0.774059</td>\n",
       "    </tr>\n",
       "    <tr>\n",
       "      <th>2</th>\n",
       "      <td>True Positive Rate</td>\n",
       "      <td>0.774059</td>\n",
       "    </tr>\n",
       "    <tr>\n",
       "      <th>3</th>\n",
       "      <td>False Positive Rate</td>\n",
       "      <td>0.083333</td>\n",
       "    </tr>\n",
       "    <tr>\n",
       "      <th>4</th>\n",
       "      <td>True Negative Rate</td>\n",
       "      <td>0.916667</td>\n",
       "    </tr>\n",
       "    <tr>\n",
       "      <th>5</th>\n",
       "      <td>False Negative Rate</td>\n",
       "      <td>0.225941</td>\n",
       "    </tr>\n",
       "    <tr>\n",
       "      <th>6</th>\n",
       "      <td>Precision</td>\n",
       "      <td>0.852535</td>\n",
       "    </tr>\n",
       "    <tr>\n",
       "      <th>7</th>\n",
       "      <td>F1-Score</td>\n",
       "      <td>0.811404</td>\n",
       "    </tr>\n",
       "    <tr>\n",
       "      <th>8</th>\n",
       "      <td>Support</td>\n",
       "      <td>239.000000</td>\n",
       "    </tr>\n",
       "  </tbody>\n",
       "</table>\n",
       "</div>"
      ],
      "text/plain": [
       "                Metric       Value\n",
       "0             Accuracy    0.861958\n",
       "1               Recall    0.774059\n",
       "2   True Positive Rate    0.774059\n",
       "3  False Positive Rate    0.083333\n",
       "4   True Negative Rate    0.916667\n",
       "5  False Negative Rate    0.225941\n",
       "6            Precision    0.852535\n",
       "7             F1-Score    0.811404\n",
       "8              Support  239.000000"
      ]
     },
     "execution_count": 18,
     "metadata": {},
     "output_type": "execute_result"
    }
   ],
   "source": [
    "TP = 185\n",
    "TN = 352\n",
    "FP = 32\n",
    "FN = 54\n",
    "\n",
    "theometrics(TP, TN, FP, FN)\n"
   ]
  },
  {
   "cell_type": "code",
   "execution_count": 19,
   "id": "34d84c4e",
   "metadata": {},
   "outputs": [
    {
     "name": "stdout",
     "output_type": "stream",
     "text": [
      "              precision    recall  f1-score   support\n",
      "\n",
      "           0       0.87      0.92      0.89       384\n",
      "           1       0.85      0.77      0.81       239\n",
      "\n",
      "    accuracy                           0.86       623\n",
      "   macro avg       0.86      0.85      0.85       623\n",
      "weighted avg       0.86      0.86      0.86       623\n",
      "\n"
     ]
    }
   ],
   "source": [
    "m1 = classification_report(y_train, y_pred)\n",
    "print(m1)"
   ]
  },
  {
   "cell_type": "markdown",
   "id": "7ced7e48",
   "metadata": {},
   "source": [
    "---"
   ]
  },
  {
   "cell_type": "code",
   "execution_count": 20,
   "id": "1d6aff90",
   "metadata": {},
   "outputs": [
    {
     "data": {
      "image/png": "[encoded data removed]",
      "text/plain": [
       "<Figure size 640x480 with 1 Axes>"
      ]
     },
     "metadata": {},
     "output_type": "display_data"
    }
   ],
   "source": [
    "# VISUALIZE MODEL WITH K RANGE (1,21)\n",
    "\n",
    "k_range = range(1, 21)\n",
    "scores = []\n",
    "for k in k_range:\n",
    "    knn = KNeighborsClassifier(n_neighbors = k)\n",
    "    knn.fit(X_train, y_train)\n",
    "    scores.append(knn.score(X_train, y_train))\n",
    "plt.figure()\n",
    "plt.xlabel('k')\n",
    "plt.ylabel('accuracy')\n",
    "plt.scatter(k_range, scores)\n",
    "plt.xticks([0,5,10,15,20])\n",
    "plt.show()\n"
   ]
  },
  {
   "cell_type": "markdown",
   "id": "afa25dee",
   "metadata": {},
   "source": [
    "## Run through steps 1-3 setting k to 10"
   ]
  },
  {
   "cell_type": "code",
   "execution_count": 21,
   "id": "adf39667",
   "metadata": {},
   "outputs": [
    {
     "data": {
      "text/plain": [
       "0.8186195826645265"
      ]
     },
     "execution_count": 21,
     "metadata": {},
     "output_type": "execute_result"
    }
   ],
   "source": [
    "k = 10\n",
    "\n",
    "knn = KNeighborsClassifier(n_neighbors = k)\n",
    "knn.fit(X_train, y_train)\n",
    "knn.score(X_train, y_train)"
   ]
  },
  {
   "cell_type": "code",
   "execution_count": 22,
   "id": "d8ed0b59",
   "metadata": {},
   "outputs": [
    {
     "data": {
      "text/plain": [
       "array([1, 0, 1, 0, 0])"
      ]
     },
     "execution_count": 22,
     "metadata": {},
     "output_type": "execute_result"
    }
   ],
   "source": [
    "y_pred = knn.predict(X_train)\n",
    "y_pred[:5]"
   ]
  },
  {
   "cell_type": "code",
   "execution_count": 23,
   "id": "759617c2",
   "metadata": {},
   "outputs": [
    {
     "name": "stdout",
     "output_type": "stream",
     "text": [
      "              precision    recall  f1-score   support\n",
      "\n",
      "           0       0.82      0.91      0.86       384\n",
      "           1       0.82      0.67      0.74       239\n",
      "\n",
      "    accuracy                           0.82       623\n",
      "   macro avg       0.82      0.79      0.80       623\n",
      "weighted avg       0.82      0.82      0.81       623\n",
      "\n"
     ]
    }
   ],
   "source": [
    "m2 = classification_report(y_train, y_pred)\n",
    "print(m2)"
   ]
  },
  {
   "cell_type": "code",
   "execution_count": 24,
   "id": "91da27bc",
   "metadata": {
    "scrolled": true
   },
   "outputs": [
    {
     "data": {
      "image/png": "[encoded data removed]",
      "text/plain": [
       "<Figure size 640x480 with 1 Axes>"
      ]
     },
     "metadata": {},
     "output_type": "display_data"
    }
   ],
   "source": [
    "# VISUALIZE MODEL\n",
    "\n",
    "k = 10\n",
    "scores = knn.score(X_train, y_train)\n",
    "knn = KNeighborsClassifier(n_neighbors = k)\n",
    "knn.fit(X_train, y_train)\n",
    "plt.figure()\n",
    "plt.xlabel('k')\n",
    "plt.ylabel('accuracy')\n",
    "plt.scatter(k, scores)\n",
    "plt.xticks([0,5,10,15,20])\n",
    "plt.show()\n"
   ]
  },
  {
   "cell_type": "markdown",
   "id": "466fc27d",
   "metadata": {},
   "source": [
    "## Run through steps 1-3 setting k to 20"
   ]
  },
  {
   "cell_type": "code",
   "execution_count": 25,
   "id": "cb46890b",
   "metadata": {},
   "outputs": [
    {
     "data": {
      "text/plain": [
       "0.8154093097913323"
      ]
     },
     "execution_count": 25,
     "metadata": {},
     "output_type": "execute_result"
    }
   ],
   "source": [
    "k = 20\n",
    "\n",
    "knn = KNeighborsClassifier(n_neighbors = k)\n",
    "knn.fit(X_train, y_train)\n",
    "knn.score(X_train, y_train)"
   ]
  },
  {
   "cell_type": "code",
   "execution_count": 26,
   "id": "70331718",
   "metadata": {},
   "outputs": [
    {
     "data": {
      "text/plain": [
       "array([1, 0, 1, 0, 0])"
      ]
     },
     "execution_count": 26,
     "metadata": {},
     "output_type": "execute_result"
    }
   ],
   "source": [
    "y_pred = knn.predict(X_train)\n",
    "y_pred[:5]"
   ]
  },
  {
   "cell_type": "code",
   "execution_count": 27,
   "id": "72d887bd",
   "metadata": {
    "scrolled": true
   },
   "outputs": [
    {
     "name": "stdout",
     "output_type": "stream",
     "text": [
      "              precision    recall  f1-score   support\n",
      "\n",
      "           0       0.81      0.91      0.86       384\n",
      "           1       0.83      0.66      0.73       239\n",
      "\n",
      "    accuracy                           0.82       623\n",
      "   macro avg       0.82      0.79      0.80       623\n",
      "weighted avg       0.82      0.82      0.81       623\n",
      "\n"
     ]
    }
   ],
   "source": [
    "m3 = classification_report(y_train, y_pred)\n",
    "print(m3)"
   ]
  },
  {
   "cell_type": "code",
   "execution_count": 28,
   "id": "9141a630",
   "metadata": {},
   "outputs": [
    {
     "data": {
      "image/png": "[encoded data removed]",
      "text/plain": [
       "<Figure size 640x480 with 1 Axes>"
      ]
     },
     "metadata": {},
     "output_type": "display_data"
    }
   ],
   "source": [
    "k = 20\n",
    "scores = knn.score(X_train, y_train)\n",
    "knn = KNeighborsClassifier(n_neighbors = k)\n",
    "knn.fit(X_train, y_train)\n",
    "plt.figure()\n",
    "plt.xlabel('k')\n",
    "plt.ylabel('accuracy')\n",
    "plt.scatter(k, scores)\n",
    "plt.xticks([0,5,10,15,20])\n",
    "plt.show()\n"
   ]
  },
  {
   "cell_type": "markdown",
   "id": "0bcdb822",
   "metadata": {},
   "source": [
    "## What are the differences in the evaluation metrics?"
   ]
  },
  {
   "cell_type": "code",
   "execution_count": 29,
   "id": "289784f6",
   "metadata": {},
   "outputs": [
    {
     "name": "stdout",
     "output_type": "stream",
     "text": [
      "              precision    recall  f1-score   support\n",
      "\n",
      "           0       0.87      0.92      0.89       384\n",
      "           1       0.85      0.77      0.81       239\n",
      "\n",
      "    accuracy                           0.86       623\n",
      "   macro avg       0.86      0.85      0.85       623\n",
      "weighted avg       0.86      0.86      0.86       623\n",
      "\n"
     ]
    }
   ],
   "source": [
    "print(m1)"
   ]
  },
  {
   "cell_type": "code",
   "execution_count": 30,
   "id": "0980e3c6",
   "metadata": {},
   "outputs": [
    {
     "name": "stdout",
     "output_type": "stream",
     "text": [
      "              precision    recall  f1-score   support\n",
      "\n",
      "           0       0.82      0.91      0.86       384\n",
      "           1       0.82      0.67      0.74       239\n",
      "\n",
      "    accuracy                           0.82       623\n",
      "   macro avg       0.82      0.79      0.80       623\n",
      "weighted avg       0.82      0.82      0.81       623\n",
      "\n"
     ]
    }
   ],
   "source": [
    "print(m2)"
   ]
  },
  {
   "cell_type": "code",
   "execution_count": 31,
   "id": "b955ffec",
   "metadata": {},
   "outputs": [
    {
     "name": "stdout",
     "output_type": "stream",
     "text": [
      "              precision    recall  f1-score   support\n",
      "\n",
      "           0       0.81      0.91      0.86       384\n",
      "           1       0.83      0.66      0.73       239\n",
      "\n",
      "    accuracy                           0.82       623\n",
      "   macro avg       0.82      0.79      0.80       623\n",
      "weighted avg       0.82      0.82      0.81       623\n",
      "\n"
     ]
    }
   ],
   "source": [
    "print(m3)"
   ]
  },
  {
   "cell_type": "markdown",
   "id": "86a87ba1",
   "metadata": {},
   "source": [
    "## Which performs better on your in-sample data? Why?"
   ]
  },
  {
   "cell_type": "markdown",
   "id": "6427d18e",
   "metadata": {},
   "source": [
    "model 1 performs the best because it has highest accuracy score"
   ]
  },
  {
   "cell_type": "markdown",
   "id": "55a96e28",
   "metadata": {},
   "source": [
    "## Which model performs best on our out-of-sample data from validate?"
   ]
  },
  {
   "cell_type": "code",
   "execution_count": 32,
   "id": "123b76ae",
   "metadata": {},
   "outputs": [
    {
     "data": {
      "text/plain": [
       "0.8656716417910447"
      ]
     },
     "execution_count": 32,
     "metadata": {},
     "output_type": "execute_result"
    }
   ],
   "source": [
    "knn = KNeighborsClassifier()\n",
    "knn.fit(X_val, y_val)\n",
    "knn.score(X_val, y_val)"
   ]
  },
  {
   "cell_type": "code",
   "execution_count": 33,
   "id": "7e4d0450",
   "metadata": {},
   "outputs": [
    {
     "data": {
      "text/plain": [
       "array([1, 0, 0, 1, 0])"
      ]
     },
     "execution_count": 33,
     "metadata": {},
     "output_type": "execute_result"
    }
   ],
   "source": [
    "y_pred = knn.predict(X_val)\n",
    "y_pred[:5]"
   ]
  },
  {
   "cell_type": "code",
   "execution_count": 34,
   "id": "b75bf353",
   "metadata": {},
   "outputs": [],
   "source": [
    "m1 = classification_report(y_val, y_pred)\n"
   ]
  },
  {
   "cell_type": "code",
   "execution_count": 35,
   "id": "b8568d49",
   "metadata": {},
   "outputs": [
    {
     "data": {
      "text/plain": [
       "0.8208955223880597"
      ]
     },
     "execution_count": 35,
     "metadata": {},
     "output_type": "execute_result"
    }
   ],
   "source": [
    "k = 10\n",
    "\n",
    "knn = KNeighborsClassifier(n_neighbors = k)\n",
    "knn.fit(X_val, y_val)\n",
    "knn.score(X_val, y_val)"
   ]
  },
  {
   "cell_type": "code",
   "execution_count": 36,
   "id": "9ff28c84",
   "metadata": {},
   "outputs": [
    {
     "data": {
      "text/plain": [
       "array([1, 0, 0, 0, 0])"
      ]
     },
     "execution_count": 36,
     "metadata": {},
     "output_type": "execute_result"
    }
   ],
   "source": [
    "y_pred = knn.predict(X_val)\n",
    "y_pred[:5]"
   ]
  },
  {
   "cell_type": "code",
   "execution_count": 37,
   "id": "6d2b7dfa",
   "metadata": {},
   "outputs": [],
   "source": [
    "m2 = classification_report(y_val, y_pred)"
   ]
  },
  {
   "cell_type": "code",
   "execution_count": 38,
   "id": "da2233d0",
   "metadata": {},
   "outputs": [
    {
     "data": {
      "text/plain": [
       "0.746268656716418"
      ]
     },
     "execution_count": 38,
     "metadata": {},
     "output_type": "execute_result"
    }
   ],
   "source": [
    "k = 20\n",
    "\n",
    "knn = KNeighborsClassifier(n_neighbors = k)\n",
    "knn.fit(X_val, y_val)\n",
    "knn.score(X_val, y_val)"
   ]
  },
  {
   "cell_type": "code",
   "execution_count": 39,
   "id": "f752e99e",
   "metadata": {},
   "outputs": [
    {
     "data": {
      "text/plain": [
       "array([1, 0, 0, 0, 0])"
      ]
     },
     "execution_count": 39,
     "metadata": {},
     "output_type": "execute_result"
    }
   ],
   "source": [
    "y_pred = knn.predict(X_val)\n",
    "y_pred[:5]"
   ]
  },
  {
   "cell_type": "code",
   "execution_count": 40,
   "id": "ee33c4a4",
   "metadata": {},
   "outputs": [],
   "source": [
    "m3 = classification_report(y_val, y_pred)"
   ]
  },
  {
   "cell_type": "code",
   "execution_count": 41,
   "id": "dd9825bc",
   "metadata": {},
   "outputs": [
    {
     "name": "stdout",
     "output_type": "stream",
     "text": [
      "              precision    recall  f1-score   support\n",
      "\n",
      "           0       0.87      0.91      0.89        82\n",
      "           1       0.85      0.79      0.82        52\n",
      "\n",
      "    accuracy                           0.87       134\n",
      "   macro avg       0.86      0.85      0.86       134\n",
      "weighted avg       0.87      0.87      0.86       134\n",
      "\n"
     ]
    }
   ],
   "source": [
    "print(m1)"
   ]
  },
  {
   "cell_type": "code",
   "execution_count": 42,
   "id": "fc813a5d",
   "metadata": {},
   "outputs": [
    {
     "name": "stdout",
     "output_type": "stream",
     "text": [
      "              precision    recall  f1-score   support\n",
      "\n",
      "           0       0.79      0.96      0.87        82\n",
      "           1       0.91      0.60      0.72        52\n",
      "\n",
      "    accuracy                           0.82       134\n",
      "   macro avg       0.85      0.78      0.79       134\n",
      "weighted avg       0.84      0.82      0.81       134\n",
      "\n"
     ]
    }
   ],
   "source": [
    "print(m2)"
   ]
  },
  {
   "cell_type": "code",
   "execution_count": 43,
   "id": "0a44f024",
   "metadata": {},
   "outputs": [
    {
     "name": "stdout",
     "output_type": "stream",
     "text": [
      "              precision    recall  f1-score   support\n",
      "\n",
      "           0       0.72      0.95      0.82        82\n",
      "           1       0.85      0.42      0.56        52\n",
      "\n",
      "    accuracy                           0.75       134\n",
      "   macro avg       0.78      0.69      0.69       134\n",
      "weighted avg       0.77      0.75      0.72       134\n",
      "\n"
     ]
    }
   ],
   "source": [
    "print(m3)"
   ]
  },
  {
   "cell_type": "markdown",
   "id": "4590aac1",
   "metadata": {},
   "source": [
    "model 1 performs the best because it has highest accuracy score"
   ]
  }
 ],
 "metadata": {
  "kernelspec": {
   "display_name": "Python 3 (ipykernel)",
   "language": "python",
   "name": "python3"
  },
  "language_info": {
   "codemirror_mode": {
    "name": "ipython",
    "version": 3
   },
   "file_extension": ".py",
   "mimetype": "text/x-python",
   "name": "python",
   "nbconvert_exporter": "python",
   "pygments_lexer": "ipython3",
   "version": "3.11.3"
  }
 },
 "nbformat": 4,
 "nbformat_minor": 5
}
