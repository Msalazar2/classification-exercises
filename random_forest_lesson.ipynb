{
 "cells": [
  {
   "cell_type": "code",
   "execution_count": 1,
   "id": "41c0b13e",
   "metadata": {},
   "outputs": [
    {
     "data": {
      "application/javascript": [
       "IPython.notebook.set_autosave_interval(0)"
      ]
     },
     "metadata": {},
     "output_type": "display_data"
    },
    {
     "name": "stdout",
     "output_type": "stream",
     "text": [
      "Autosave disabled\n"
     ]
    }
   ],
   "source": [
    "%autosave 0"
   ]
  },
  {
   "cell_type": "code",
   "execution_count": 2,
   "id": "71c53e54",
   "metadata": {},
   "outputs": [],
   "source": [
    "import pandas as pd\n",
    "import numpy as np\n",
    "\n",
    "import matplotlib.pyplot as plt\n",
    "\n",
    "from sklearn.ensemble import RandomForestClassifier\n",
    "from adam_prepare import titanic_pipeline"
   ]
  },
  {
   "cell_type": "markdown",
   "id": "585a5163",
   "metadata": {},
   "source": [
    "Let's read in our data from the titanic pipeline function!"
   ]
  },
  {
   "cell_type": "code",
   "execution_count": 3,
   "id": "a02539f1",
   "metadata": {},
   "outputs": [
    {
     "name": "stdout",
     "output_type": "stream",
     "text": [
      "found data\n"
     ]
    },
    {
     "data": {
      "text/plain": [
       "((623, 10), (134, 10), (134, 10))"
      ]
     },
     "execution_count": 3,
     "metadata": {},
     "output_type": "execute_result"
    }
   ],
   "source": [
    "train, val, test = titanic_pipeline()\n",
    "train.shape, val.shape, test.shape"
   ]
  },
  {
   "cell_type": "markdown",
   "id": "c894ad36",
   "metadata": {},
   "source": [
    "We need to create our X and y subsets."
   ]
  },
  {
   "cell_type": "code",
   "execution_count": 4,
   "id": "e190c11b",
   "metadata": {},
   "outputs": [],
   "source": [
    "X_train = train.drop(columns = ['survived')\n",
    "y_train = train.survived\n",
    "\n",
    "X_val = val.drop(columns = 'survived')\n",
    "y_val = val.survived"
   ]
  },
  {
   "cell_type": "code",
   "execution_count": 5,
   "id": "9830aad7",
   "metadata": {},
   "outputs": [
    {
     "data": {
      "text/html": [
       "<div>\n",
       "<style scoped>\n",
       "    .dataframe tbody tr th:only-of-type {\n",
       "        vertical-align: middle;\n",
       "    }\n",
       "\n",
       "    .dataframe tbody tr th {\n",
       "        vertical-align: top;\n",
       "    }\n",
       "\n",
       "    .dataframe thead th {\n",
       "        text-align: right;\n",
       "    }\n",
       "</style>\n",
       "<table border=\"1\" class=\"dataframe\">\n",
       "  <thead>\n",
       "    <tr style=\"text-align: right;\">\n",
       "      <th></th>\n",
       "      <th>age</th>\n",
       "      <th>sibsp</th>\n",
       "      <th>parch</th>\n",
       "      <th>class</th>\n",
       "      <th>deck</th>\n",
       "      <th>embark_town</th>\n",
       "      <th>alone</th>\n",
       "      <th>sex_male</th>\n",
       "    </tr>\n",
       "  </thead>\n",
       "  <tbody>\n",
       "    <tr>\n",
       "      <th>748</th>\n",
       "      <td>19.0</td>\n",
       "      <td>1</td>\n",
       "      <td>0</td>\n",
       "      <td>First</td>\n",
       "      <td>D</td>\n",
       "      <td>Southampton</td>\n",
       "      <td>0</td>\n",
       "      <td>1</td>\n",
       "    </tr>\n",
       "    <tr>\n",
       "      <th>45</th>\n",
       "      <td>29.0</td>\n",
       "      <td>0</td>\n",
       "      <td>0</td>\n",
       "      <td>Third</td>\n",
       "      <td>NaN</td>\n",
       "      <td>Southampton</td>\n",
       "      <td>1</td>\n",
       "      <td>1</td>\n",
       "    </tr>\n",
       "    <tr>\n",
       "      <th>28</th>\n",
       "      <td>29.0</td>\n",
       "      <td>0</td>\n",
       "      <td>0</td>\n",
       "      <td>Third</td>\n",
       "      <td>NaN</td>\n",
       "      <td>Queenstown</td>\n",
       "      <td>1</td>\n",
       "      <td>0</td>\n",
       "    </tr>\n",
       "    <tr>\n",
       "      <th>633</th>\n",
       "      <td>29.0</td>\n",
       "      <td>0</td>\n",
       "      <td>0</td>\n",
       "      <td>First</td>\n",
       "      <td>NaN</td>\n",
       "      <td>Southampton</td>\n",
       "      <td>1</td>\n",
       "      <td>1</td>\n",
       "    </tr>\n",
       "    <tr>\n",
       "      <th>403</th>\n",
       "      <td>28.0</td>\n",
       "      <td>1</td>\n",
       "      <td>0</td>\n",
       "      <td>Third</td>\n",
       "      <td>NaN</td>\n",
       "      <td>Southampton</td>\n",
       "      <td>0</td>\n",
       "      <td>1</td>\n",
       "    </tr>\n",
       "  </tbody>\n",
       "</table>\n",
       "</div>"
      ],
      "text/plain": [
       "      age  sibsp  parch  class deck  embark_town  alone  sex_male\n",
       "748  19.0      1      0  First    D  Southampton      0         1\n",
       "45   29.0      0      0  Third  NaN  Southampton      1         1\n",
       "28   29.0      0      0  Third  NaN   Queenstown      1         0\n",
       "633  29.0      0      0  First  NaN  Southampton      1         1\n",
       "403  28.0      1      0  Third  NaN  Southampton      0         1"
      ]
     },
     "execution_count": 5,
     "metadata": {},
     "output_type": "execute_result"
    }
   ],
   "source": []
  },
  {
   "cell_type": "code",
   "execution_count": 6,
   "id": "e89b27f1",
   "metadata": {},
   "outputs": [
    {
     "ename": "SyntaxError",
     "evalue": "invalid syntax (3852905643.py, line 1)",
     "output_type": "error",
     "traceback": [
      "\u001b[0;36m  Cell \u001b[0;32mIn[6], line 1\u001b[0;36m\u001b[0m\n\u001b[0;31m    X_trian = train.drop(columns = )\u001b[0m\n\u001b[0m                                   ^\u001b[0m\n\u001b[0;31mSyntaxError\u001b[0m\u001b[0;31m:\u001b[0m invalid syntax\n"
     ]
    }
   ],
   "source": [
    "X_trian = train.drop(columns = )"
   ]
  },
  {
   "cell_type": "markdown",
   "id": "5e7afd68",
   "metadata": {},
   "source": [
    "Before modeling, it's always important to define a baseline!"
   ]
  },
  {
   "cell_type": "code",
   "execution_count": null,
   "id": "54df4725",
   "metadata": {},
   "outputs": [],
   "source": [
    "#always create a baseline\n",
    "\n",
    "y_train.mode()\n"
   ]
  },
  {
   "cell_type": "code",
   "execution_count": null,
   "id": "fa82c337",
   "metadata": {},
   "outputs": [],
   "source": [
    "(y_train == 0).mean()"
   ]
  },
  {
   "cell_type": "markdown",
   "id": "bb9d3316",
   "metadata": {},
   "source": [
    "#takeaway\n",
    "\n",
    "the mojority of people died in the titanic. "
   ]
  },
  {
   "cell_type": "markdown",
   "id": "f71a311e",
   "metadata": {},
   "source": [
    "Now we are ready to create a [RandomForestClassifier](https://scikit-learn.org/stable/modules/generated/sklearn.ensemble.RandomForestClassifier.html) object and start modeling!"
   ]
  },
  {
   "cell_type": "code",
   "execution_count": null,
   "id": "833658d7",
   "metadata": {},
   "outputs": [],
   "source": [
    "seed = 42\n",
    "\n",
    "rf = RandomForestClassifier(max_depth = 5, random_state = seed)\n",
    "\n",
    "rf.fit(X_train, y_train)"
   ]
  },
  {
   "cell_type": "code",
   "execution_count": null,
   "id": "17140da1",
   "metadata": {},
   "outputs": [],
   "source": [
    "rf.score(X_train, y_train)"
   ]
  },
  {
   "cell_type": "code",
   "execution_count": null,
   "id": "19d7eff5",
   "metadata": {},
   "outputs": [],
   "source": [
    "rf.score(X_val, y_val)"
   ]
  },
  {
   "cell_type": "code",
   "execution_count": null,
   "id": "bda7528c",
   "metadata": {},
   "outputs": [],
   "source": [
    "rf.feature_importances_"
   ]
  },
  {
   "cell_type": "code",
   "execution_count": null,
   "id": "af53dbbe",
   "metadata": {},
   "outputs": [],
   "source": [
    "fi = pd.DataFrame({'feature': X_train.columns,\n",
    "             'importance': rf.feature_importances_})\n",
    "\n",
    "fi.sort_values(by = 'importance', ascending = False)"
   ]
  }
 ],
 "metadata": {
  "kernelspec": {
   "display_name": "Python 3 (ipykernel)",
   "language": "python",
   "name": "python3"
  },
  "language_info": {
   "codemirror_mode": {
    "name": "ipython",
    "version": 3
   },
   "file_extension": ".py",
   "mimetype": "text/x-python",
   "name": "python",
   "nbconvert_exporter": "python",
   "pygments_lexer": "ipython3",
   "version": "3.11.3"
  }
 },
 "nbformat": 4,
 "nbformat_minor": 5
}
